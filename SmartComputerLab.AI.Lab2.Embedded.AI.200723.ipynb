{
 "cells": [
  {
   "cell_type": "markdown",
   "metadata": {
    "colab_type": "text",
    "id": "MPCcSsAakGjk"
   },
   "source": [
    "# Lab 2 – Deep Learning - Handwritten digits classification using Neural Networks\n",
    "\n",
    "Welcome to Lab 2 on using deep neural networksfor the classification of handwritten digits. In the prevoius\n",
    "**Lab 1** - **Linear** and **Polynomial** **regression** with TensorFlow and Keras we built simple one layer models for linear\n",
    "and polynomial regression.\n",
    "\n",
    "\n",
    "In this Lab, we are going to build **multi-layer networks** starting with asimple **Dense** layers model. \n",
    "\n",
    "Than we will\n",
    "study several convolutional models with different types of layers including: convolutional layers, flattened layers,\n",
    "pooling layers and dropout layers.\n",
    "The following topics will be covered in this lab:\n",
    "*  **MNIST** Dataset\n",
    "*  Deep multilayer network\n",
    "*  Convolution\n",
    "*  Pooling\n",
    "*  Dropout\n",
    "*  Training the model and testing the models\n",
    "*  Comparing the results\n",
    "\n",
    "**2.1 Code implementation for simple multi-layer network**\n",
    "\n",
    "In this lab, we will be using the Keras deep learning library, which is a high-level neural network API capable of running on top of TensorFlow.\n",
    "\n",
    "**2.1.1 Importing all of the dependencies**\n",
    "\n",
    "We will be using the **numpy** , **matplotlib** , **keras** , **scipy** , and **tensorflow** packages in this exercise.\n",
    "Here, **TensorFlow** is used as the *backend* for **Keras**.\n",
    "\n",
    "\n",
    "**Note:**\n",
    "We will not spend time understanding how Keras works, but if you are interested, refer to this easy-to-\n",
    "understand official documentation from Keras at **https://keras.io/**\n",
    "You can install these packages with pip . For the MNIST data, we will be using the dataset available in the\n",
    "keras module with a simple *import*"
   ]
  },
  {
   "cell_type": "code",
   "execution_count": 3,
   "metadata": {
    "scrolled": true
   },
   "outputs": [
    {
     "name": "stdout",
     "output_type": "stream",
     "text": [
      "Collecting numpy\n",
      "\u001b[?25l  Downloading https://files.pythonhosted.org/packages/50/8f/29d5688614f9bba59931683d5d353d738d4a3007833219ee19c455732753/numpy-1.19.1-cp37-cp37m-manylinux2010_x86_64.whl (14.5MB)\n",
      "\u001b[K     |████████████████████████████████| 14.5MB 1.3MB/s eta 0:00:01    |█                               | 460kB 583kB/s eta 0:00:25     |█████▏                          | 2.4MB 1.8MB/s eta 0:00:07\n",
      "\u001b[?25hInstalling collected packages: numpy\n",
      "Successfully installed numpy-1.19.1\n"
     ]
    }
   ],
   "source": [
    "!pip install numpy"
   ]
  },
  {
   "cell_type": "code",
   "execution_count": 1,
   "metadata": {
    "colab": {},
    "colab_type": "code",
    "id": "ttT9bDARjIGi"
   },
   "outputs": [],
   "source": [
    "import numpy as np"
   ]
  },
  {
   "cell_type": "markdown",
   "metadata": {
    "colab_type": "text",
    "id": "oXSuWlCNkFJA"
   },
   "source": [
    "It is important that you set seed for reproducibility:\n"
   ]
  },
  {
   "cell_type": "code",
   "execution_count": null,
   "metadata": {},
   "outputs": [
    {
     "name": "stdout",
     "output_type": "stream",
     "text": [
      "Collecting tensorflow\n",
      "\u001b[?25l  Downloading https://files.pythonhosted.org/packages/4c/1a/0d79814736cfecc825ab8094b39648cc9c46af7af1bae839928acb73b4dd/tensorflow-2.2.0-cp37-cp37m-manylinux2010_x86_64.whl (516.2MB)\n",
      "\u001b[K     |████████████████████████████████| 516.2MB 24kB/s  eta 0:00:01   |▌                               | 8.2MB 1.4MB/s eta 0:05:57     |▉                               | 13.7MB 1.4MB/s eta 0:05:51     |█▉                              | 29.1MB 3.1MB/s eta 0:02:36     |██▏                             | 35.2MB 902kB/s eta 0:08:53     |██▌                             | 40.9MB 1.2MB/s eta 0:06:51     |██▋                             | 42.8MB 1.6MB/s eta 0:04:49     |███▊                            | 59.2MB 2.6MB/s eta 0:02:54     |████▌                           | 72.1MB 1.9MB/s eta 0:04:00     |████▋                           | 73.6MB 1.6MB/s eta 0:04:43     |█████                           | 78.9MB 1.6MB/s eta 0:04:35     |█████                           | 80.8MB 3.9MB/s eta 0:01:53     |██████                          | 95.5MB 2.0MB/s eta 0:03:35     |███████▌                        | 120.5MB 2.9MB/s eta 0:02:15     |███████▋                        | 123.1MB 2.9MB/s eta 0:02:15     |█████████                       | 144.2MB 1.6MB/s eta 0:03:58     |█████████▌                      | 153.6MB 2.9MB/s eta 0:02:07     |█████████▋                      | 155.6MB 97kB/s eta 1:01:33     |██████████                      | 159.6MB 1.3MB/s eta 0:04:36     |████████████                    | 194.4MB 1.4MB/s eta 0:03:48     |████████████▎                   | 198.1MB 2.0MB/s eta 0:02:42     |████████████▊                   | 205.0MB 3.2MB/s eta 0:01:37     |█████████████                   | 211.3MB 1.3MB/s eta 0:04:03     |█████████████▍                  | 216.3MB 137kB/s eta 0:36:25     |██████████████▊                 | 237.5MB 3.6MB/s eta 0:01:18     |███████████████▎                | 247.2MB 2.3MB/s eta 0:02:00     |███████████████▌                | 249.8MB 1.9MB/s eta 0:02:23     |████████████████                | 257.9MB 3.9MB/s eta 0:01:06     |█████████████████▌              | 282.9MB 209kB/s eta 0:18:35     |█████████████████▉              | 287.2MB 1.9MB/s eta 0:02:00     |██████████████████              | 288.8MB 3.0MB/s eta 0:01:16     |███████████████████▎            | 311.6MB 1.1MB/s eta 0:03:03     |███████████████████▎            | 311.8MB 1.1MB/s eta 0:03:03     |███████████████████▋            | 316.4MB 1.8MB/s eta 0:01:54     |███████████████████▉            | 320.3MB 1.7MB/s eta 0:01:54     |████████████████████            | 322.9MB 4.4MB/s eta 0:00:45     |████████████████████▏           | 324.9MB 94kB/s eta 0:33:48     |████████████████████▏           | 325.6MB 94kB/s eta 0:33:41     |████████████████████▎           | 327.9MB 97kB/s eta 0:32:14��███▋          | 347.8MB 87kB/s eta 0:32:05     |█████████████████████▋          | 348.8MB 87kB/s eta 0:31:53     |██████████████████████▌         | 362.4MB 2.1MB/s eta 0:01:15     |██████████████████████▌         | 363.0MB 2.1MB/s eta 0:01:15     |██████████████████████▋         | 365.3MB 2.4MB/s eta 0:01:041MB 111kB/s eta 0:19:09     |████████████████████████▊       | 399.6MB 151kB/s eta 0:12:50     |█████████████████████████▍      | 409.8MB 1.7MB/s eta 0:01:01     |██████████████████████████▉     | 432.3MB 2.0MB/s eta 0:00:43   | 444.4MB 2.4MB/s eta 0:00:30     |████████████████████████████    | 450.1MB 1.8MB/s eta 0:00:37     |████████████████████████████▌   | 459.9MB 2.4MB/s eta 0:00:24     |█████████████████████████████▏  | 471.2MB 2.7MB/s eta 0:00:17     |██████████████████████████████▎ | 488.0MB 2.3MB/s eta 0:00:13     |██████████████████████████████▌ | 491.9MB 1.1MB/s eta 0:00:23     |██████████████████████████████▋ | 494.4MB 2.2MB/s eta 0:00:10     |██████████████████████████████▉ | 497.7MB 2.7MB/s eta 0:00:07     |███████████████████████████████▏| 502.5MB 2.4MB/s eta 0:00:06     |███████████████████████████████▎| 504.0MB 2.4MB/s eta 0:00:06     |███████████████████████████████▌| 509.0MB 1.4MB/s eta 0:00:06\n",
      "\u001b[?25hCollecting scipy==1.4.1; python_version >= \"3\" (from tensorflow)\n",
      "\u001b[?25l  Downloading https://files.pythonhosted.org/packages/dd/82/c1fe128f3526b128cfd185580ba40d01371c5d299fcf7f77968e22dfcc2e/scipy-1.4.1-cp37-cp37m-manylinux1_x86_64.whl (26.1MB)\n",
      "\u001b[K     |████████████████████████████████| 26.1MB 1.6MB/s eta 0:00:01   |▏                               | 92kB 633kB/s eta 0:00:42     |████▌                           | 3.7MB 518kB/s eta 0:00:44     |█████████████                   | 10.6MB 3.3MB/s eta 0:00:05     |████████████████████▊           | 16.8MB 1.2MB/s eta 0:00:08\n",
      "\u001b[?25hCollecting absl-py>=0.7.0 (from tensorflow)\n",
      "\u001b[?25l  Downloading https://files.pythonhosted.org/packages/1a/53/9243c600e047bd4c3df9e69cfabc1e8004a82cac2e0c484580a78a94ba2a/absl-py-0.9.0.tar.gz (104kB)\n",
      "\u001b[K     |████████████████████████████████| 112kB 2.6MB/s eta 0:00:01\n",
      "\u001b[?25hCollecting gast==0.3.3 (from tensorflow)\n",
      "  Downloading https://files.pythonhosted.org/packages/d6/84/759f5dd23fec8ba71952d97bcc7e2c9d7d63bdc582421f3cd4be845f0c98/gast-0.3.3-py2.py3-none-any.whl\n",
      "Collecting tensorboard<2.3.0,>=2.2.0 (from tensorflow)\n",
      "\u001b[?25l  Downloading https://files.pythonhosted.org/packages/1d/74/0a6fcb206dcc72a6da9a62dd81784bfdbff5fedb099982861dc2219014fb/tensorboard-2.2.2-py3-none-any.whl (3.0MB)\n",
      "\u001b[K     |████████████████████████████████| 3.0MB 2.3MB/s eta 0:00:01\n",
      "\u001b[?25hRequirement already satisfied: six>=1.12.0 in /snap/jupyter/6/lib/python3.7/site-packages (from tensorflow) (1.12.0)\n",
      "Collecting grpcio>=1.8.6 (from tensorflow)\n",
      "\u001b[?25l  Downloading https://files.pythonhosted.org/packages/cf/10/ed3caaa9e4c1b8c275b866438e2047d34d5e64dacc75dd0b1daf28ae07af/grpcio-1.30.0-cp37-cp37m-manylinux2010_x86_64.whl (3.0MB)\n",
      "\u001b[K     |████████████████████████████████| 3.0MB 1.8MB/s eta 0:00:01     |██████▍                         | 604kB 2.1MB/s eta 0:00:02\n",
      "\u001b[?25hCollecting keras-preprocessing>=1.1.0 (from tensorflow)\n",
      "\u001b[?25l  Downloading https://files.pythonhosted.org/packages/79/4c/7c3275a01e12ef9368a892926ab932b33bb13d55794881e3573482b378a7/Keras_Preprocessing-1.1.2-py2.py3-none-any.whl (42kB)\n",
      "\u001b[K     |████████████████████████████████| 51kB 1.8MB/s eta 0:00:01\n",
      "\u001b[?25hCollecting tensorflow-estimator<2.3.0,>=2.2.0 (from tensorflow)\n",
      "\u001b[?25l  Downloading https://files.pythonhosted.org/packages/a4/f5/926ae53d6a226ec0fda5208e0e581cffed895ccc89e36ba76a8e60895b78/tensorflow_estimator-2.2.0-py2.py3-none-any.whl (454kB)\n",
      "\u001b[K     |████████████████████████████████| 460kB 1.6MB/s eta 0:00:01\n",
      "\u001b[?25hRequirement already satisfied: wheel>=0.26; python_version >= \"3\" in /snap/jupyter/6/lib/python3.7/site-packages (from tensorflow) (0.33.4)\n",
      "Collecting termcolor>=1.1.0 (from tensorflow)\n",
      "  Downloading https://files.pythonhosted.org/packages/8a/48/a76be51647d0eb9f10e2a4511bf3ffb8cc1e6b14e9e4fab46173aa79f981/termcolor-1.1.0.tar.gz\n",
      "Collecting protobuf>=3.8.0 (from tensorflow)\n",
      "\u001b[?25l  Downloading https://files.pythonhosted.org/packages/07/63/2c505711827446bfdb544e7bcc0d7694b115d22d56175902a2581fe1172a/protobuf-3.12.2-cp37-cp37m-manylinux1_x86_64.whl (1.3MB)\n",
      "\u001b[K     |████████████████████████████████| 1.3MB 2.3MB/s eta 0:00:01\n",
      "\u001b[?25hCollecting google-pasta>=0.1.8 (from tensorflow)\n",
      "\u001b[?25l  Downloading https://files.pythonhosted.org/packages/a3/de/c648ef6835192e6e2cc03f40b19eeda4382c49b5bafb43d88b931c4c74ac/google_pasta-0.2.0-py3-none-any.whl (57kB)\n",
      "\u001b[K     |████████████████████████████████| 61kB 2.4MB/s eta 0:00:01\n",
      "\u001b[?25hRequirement already satisfied: numpy<2.0,>=1.16.0 in /home/bako/snap/jupyter/common/lib/python3.7/site-packages (from tensorflow) (1.19.1)\n",
      "Collecting astunparse==1.6.3 (from tensorflow)\n",
      "  Downloading https://files.pythonhosted.org/packages/2b/03/13dde6512ad7b4557eb792fbcf0c653af6076b81e5941d36ec61f7ce6028/astunparse-1.6.3-py2.py3-none-any.whl\n",
      "Collecting opt-einsum>=2.3.2 (from tensorflow)\n",
      "\u001b[?25l  Downloading https://files.pythonhosted.org/packages/bc/19/404708a7e54ad2798907210462fd950c3442ea51acc8790f3da48d2bee8b/opt_einsum-3.3.0-py3-none-any.whl (65kB)\n",
      "\u001b[K     |████████████████████████████████| 71kB 2.0MB/s eta 0:00:01\n",
      "\u001b[?25hRequirement already satisfied: h5py<2.11.0,>=2.10.0 in /home/bako/snap/jupyter/common/lib/python3.7/site-packages (from tensorflow) (2.10.0)\n"
     ]
    },
    {
     "name": "stdout",
     "output_type": "stream",
     "text": [
      "Collecting wrapt>=1.11.1 (from tensorflow)\n",
      "  Downloading https://files.pythonhosted.org/packages/82/f7/e43cefbe88c5fd371f4cf0cf5eb3feccd07515af9fd6cf7dbf1d1793a797/wrapt-1.12.1.tar.gz\n",
      "Collecting google-auth-oauthlib<0.5,>=0.4.1 (from tensorboard<2.3.0,>=2.2.0->tensorflow)\n",
      "  Downloading https://files.pythonhosted.org/packages/7b/b8/88def36e74bee9fce511c9519571f4e485e890093ab7442284f4ffaef60b/google_auth_oauthlib-0.4.1-py2.py3-none-any.whl\n",
      "Collecting tensorboard-plugin-wit>=1.6.0 (from tensorboard<2.3.0,>=2.2.0->tensorflow)\n",
      "\u001b[?25l  Downloading https://files.pythonhosted.org/packages/b6/85/5c5ac0a8c5efdfab916e9c6bc18963f6a6996a8a1e19ec4ad8c9ac9c623c/tensorboard_plugin_wit-1.7.0-py3-none-any.whl (779kB)\n",
      "\u001b[K     |████████████████████████████████| 788kB 3.0MB/s eta 0:00:01\n",
      "\u001b[?25hCollecting requests<3,>=2.21.0 (from tensorboard<2.3.0,>=2.2.0->tensorflow)\n",
      "\u001b[?25l  Downloading https://files.pythonhosted.org/packages/45/1e/0c169c6a5381e241ba7404532c16a21d86ab872c9bed8bdcd4c423954103/requests-2.24.0-py2.py3-none-any.whl (61kB)\n",
      "\u001b[K     |████████████████████████████████| 71kB 2.6MB/s eta 0:00:01\n",
      "\u001b[?25hRequirement already satisfied: setuptools>=41.0.0 in /snap/jupyter/6/lib/python3.7/site-packages (from tensorboard<2.3.0,>=2.2.0->tensorflow) (41.0.1)\n",
      "Collecting werkzeug>=0.11.15 (from tensorboard<2.3.0,>=2.2.0->tensorflow)\n",
      "\u001b[?25l  Downloading https://files.pythonhosted.org/packages/cc/94/5f7079a0e00bd6863ef8f1da638721e9da21e5bacee597595b318f71d62e/Werkzeug-1.0.1-py2.py3-none-any.whl (298kB)\n",
      "\u001b[K     |████████████████████████████████| 307kB 2.4MB/s eta 0:00:01\n",
      "\u001b[?25hCollecting google-auth<2,>=1.6.3 (from tensorboard<2.3.0,>=2.2.0->tensorflow)\n",
      "\u001b[?25l  Downloading https://files.pythonhosted.org/packages/b7/4b/ad22f901ef599ac6dcce285f87e8b48067f2b6ff2a5eb0f4ef08227d057f/google_auth-1.19.2-py2.py3-none-any.whl (91kB)\n",
      "\u001b[K     |████████████████████████████████| 92kB 2.1MB/s eta 0:00:01\n",
      "\u001b[?25hCollecting markdown>=2.6.8 (from tensorboard<2.3.0,>=2.2.0->tensorflow)\n",
      "\u001b[?25l  Downloading https://files.pythonhosted.org/packages/a4/63/eaec2bd025ab48c754b55e8819af0f6a69e2b1e187611dd40cbbe101ee7f/Markdown-3.2.2-py3-none-any.whl (88kB)\n",
      "\u001b[K     |████████████████████████████████| 92kB 3.3MB/s eta 0:00:01\n",
      "\u001b[?25hCollecting requests-oauthlib>=0.7.0 (from google-auth-oauthlib<0.5,>=0.4.1->tensorboard<2.3.0,>=2.2.0->tensorflow)\n",
      "  Downloading https://files.pythonhosted.org/packages/a3/12/b92740d845ab62ea4edf04d2f4164d82532b5a0b03836d4d4e71c6f3d379/requests_oauthlib-1.3.0-py2.py3-none-any.whl\n",
      "Collecting urllib3!=1.25.0,!=1.25.1,<1.26,>=1.21.1 (from requests<3,>=2.21.0->tensorboard<2.3.0,>=2.2.0->tensorflow)\n",
      "\u001b[?25l  Downloading https://files.pythonhosted.org/packages/9f/f0/a391d1463ebb1b233795cabfc0ef38d3db4442339de68f847026199e69d7/urllib3-1.25.10-py2.py3-none-any.whl (127kB)\n",
      "\u001b[K     |████████████████████████████████| 133kB 2.9MB/s eta 0:00:01\n",
      "\u001b[?25hCollecting idna<3,>=2.5 (from requests<3,>=2.21.0->tensorboard<2.3.0,>=2.2.0->tensorflow)\n",
      "\u001b[?25l  Downloading https://files.pythonhosted.org/packages/a2/38/928ddce2273eaa564f6f50de919327bf3a00f091b5baba8dfa9460f3a8a8/idna-2.10-py2.py3-none-any.whl (58kB)\n",
      "\u001b[K     |████████████████████████████████| 61kB 2.3MB/s eta 0:00:01\n",
      "\u001b[?25hRequirement already satisfied: certifi>=2017.4.17 in /snap/jupyter/6/lib/python3.7/site-packages (from requests<3,>=2.21.0->tensorboard<2.3.0,>=2.2.0->tensorflow) (2019.3.9)\n",
      "Collecting chardet<4,>=3.0.2 (from requests<3,>=2.21.0->tensorboard<2.3.0,>=2.2.0->tensorflow)\n",
      "\u001b[?25l  Downloading https://files.pythonhosted.org/packages/bc/a9/01ffebfb562e4274b6487b4bb1ddec7ca55ec7510b22e4c51f14098443b8/chardet-3.0.4-py2.py3-none-any.whl (133kB)\n",
      "\u001b[K     |████████████████████████████████| 143kB 1.9MB/s eta 0:00:01\n",
      "\u001b[?25hCollecting cachetools<5.0,>=2.0.0 (from google-auth<2,>=1.6.3->tensorboard<2.3.0,>=2.2.0->tensorflow)\n",
      "  Downloading https://files.pythonhosted.org/packages/cd/5c/f3aa86b6d5482f3051b433c7616668a9b96fbe49a622210e2c9781938a5c/cachetools-4.1.1-py3-none-any.whl\n",
      "Collecting pyasn1-modules>=0.2.1 (from google-auth<2,>=1.6.3->tensorboard<2.3.0,>=2.2.0->tensorflow)\n",
      "\u001b[?25l  Downloading https://files.pythonhosted.org/packages/95/de/214830a981892a3e286c3794f41ae67a4495df1108c3da8a9f62159b9a9d/pyasn1_modules-0.2.8-py2.py3-none-any.whl (155kB)\n",
      "\u001b[K     |████████████████████████████████| 163kB 2.1MB/s eta 0:00:01\n",
      "\u001b[?25hCollecting rsa<5,>=3.1.4; python_version >= \"3\" (from google-auth<2,>=1.6.3->tensorboard<2.3.0,>=2.2.0->tensorflow)\n",
      "\u001b[?25l  Downloading https://files.pythonhosted.org/packages/1c/df/c3587a667d6b308fadc90b99e8bc8774788d033efcc70f4ecaae7fad144b/rsa-4.6-py3-none-any.whl (47kB)\n",
      "\u001b[K     |████████████████████████████████| 51kB 3.4MB/s eta 0:00:01\n",
      "\u001b[?25hCollecting importlib-metadata; python_version < \"3.8\" (from markdown>=2.6.8->tensorboard<2.3.0,>=2.2.0->tensorflow)\n",
      "  Downloading https://files.pythonhosted.org/packages/8e/58/cdea07eb51fc2b906db0968a94700866fc46249bdc75cac23f9d13168929/importlib_metadata-1.7.0-py2.py3-none-any.whl\n",
      "Collecting oauthlib>=3.0.0 (from requests-oauthlib>=0.7.0->google-auth-oauthlib<0.5,>=0.4.1->tensorboard<2.3.0,>=2.2.0->tensorflow)\n",
      "\u001b[?25l  Downloading https://files.pythonhosted.org/packages/05/57/ce2e7a8fa7c0afb54a0581b14a65b56e62b5759dbc98e80627142b8a3704/oauthlib-3.1.0-py2.py3-none-any.whl (147kB)\n",
      "\u001b[K     |████████████████████████████████| 153kB 2.8MB/s eta 0:00:01\n",
      "\u001b[?25hCollecting pyasn1<0.5.0,>=0.4.6 (from pyasn1-modules>=0.2.1->google-auth<2,>=1.6.3->tensorboard<2.3.0,>=2.2.0->tensorflow)\n",
      "\u001b[?25l  Downloading https://files.pythonhosted.org/packages/62/1e/a94a8d635fa3ce4cfc7f506003548d0a2447ae76fd5ca53932970fe3053f/pyasn1-0.4.8-py2.py3-none-any.whl (77kB)\n",
      "\u001b[K     |████████████████████████████████| 81kB 2.7MB/s eta 0:00:01\n",
      "\u001b[?25hCollecting zipp>=0.5 (from importlib-metadata; python_version < \"3.8\"->markdown>=2.6.8->tensorboard<2.3.0,>=2.2.0->tensorflow)\n",
      "  Downloading https://files.pythonhosted.org/packages/b2/34/bfcb43cc0ba81f527bc4f40ef41ba2ff4080e047acb0586b56b3d017ace4/zipp-3.1.0-py3-none-any.whl\n",
      "Building wheels for collected packages: absl-py, termcolor, wrapt\n",
      "  Building wheel for absl-py (setup.py) ... \u001b[?25ldone\n",
      "\u001b[?25h  Stored in directory: /home/bako/snap/jupyter/6/.cache/pip/wheels/8e/28/49/fad4e7f0b9a1227708cbbee4487ac8558a7334849cb81c813d\n",
      "  Building wheel for termcolor (setup.py) ... \u001b[?25ldone\n",
      "\u001b[?25h  Stored in directory: /home/bako/snap/jupyter/6/.cache/pip/wheels/7c/06/54/bc84598ba1daf8f970247f550b175aaaee85f68b4b0c5ab2c6\n",
      "  Building wheel for wrapt (setup.py) ... \u001b[?25ldone\n",
      "\u001b[?25h  Stored in directory: /home/bako/snap/jupyter/6/.cache/pip/wheels/b1/c2/ed/d62208260edbd3fa7156545c00ef966f45f2063d0a84f8208a\n",
      "Successfully built absl-py termcolor wrapt\n",
      "Installing collected packages: scipy, absl-py, gast, oauthlib, urllib3, idna, chardet, requests, requests-oauthlib, cachetools, pyasn1, pyasn1-modules, rsa, google-auth, google-auth-oauthlib, tensorboard-plugin-wit, werkzeug, grpcio, zipp, importlib-metadata, markdown, protobuf, tensorboard, keras-preprocessing, tensorflow-estimator, termcolor, google-pasta, astunparse, opt-einsum, wrapt, tensorflow\n",
      "  Found existing installation: scipy 1.5.1\n",
      "    Uninstalling scipy-1.5.1:\n",
      "      Successfully uninstalled scipy-1.5.1\n"
     ]
    }
   ],
   "source": [
    "!pip install tensorflow\n"
   ]
  },
  {
   "cell_type": "code",
   "execution_count": 2,
   "metadata": {
    "colab": {},
    "colab_type": "code",
    "id": "Q-nkY-SRmUsk"
   },
   "outputs": [],
   "source": [
    "# set seed for reproducibility\n",
    "seed_val = 9000\n",
    "np.random.seed(seed_val)\n"
   ]
  },
  {
   "cell_type": "markdown",
   "metadata": {
    "colab_type": "text",
    "id": "r-xgVOyymatv"
   },
   "source": [
    "Importing the dataset for MNIST:\n"
   ]
  },
  {
   "cell_type": "code",
   "execution_count": 3,
   "metadata": {
    "colab": {
     "base_uri": "https://localhost:8080/",
     "height": 69
    },
    "colab_type": "code",
    "id": "-5t9dEs1menm",
    "outputId": "8ea60c7c-7440-47bf-8ed6-3a429a50d7e6"
   },
   "outputs": [
    {
     "name": "stdout",
     "output_type": "stream",
     "text": [
      "Downloading data from https://storage.googleapis.com/tensorflow/tf-keras-datasets/mnist.npz\n"
     ]
    },
    {
     "ename": "Exception",
     "evalue": "URL fetch failure on https://storage.googleapis.com/tensorflow/tf-keras-datasets/mnist.npz: None -- [SSL: CERTIFICATE_VERIFY_FAILED] certificate verify failed: unable to get local issuer certificate (_ssl.c:1056)",
     "output_type": "error",
     "traceback": [
      "\u001b[0;31m---------------------------------------------------------------------------\u001b[0m",
      "\u001b[0;31mSSLCertVerificationError\u001b[0m                  Traceback (most recent call last)",
      "\u001b[0;32m/snap/jupyter/6/lib/python3.7/urllib/request.py\u001b[0m in \u001b[0;36mdo_open\u001b[0;34m(self, http_class, req, **http_conn_args)\u001b[0m\n\u001b[1;32m   1316\u001b[0m                 h.request(req.get_method(), req.selector, req.data, headers,\n\u001b[0;32m-> 1317\u001b[0;31m                           encode_chunked=req.has_header('Transfer-encoding'))\n\u001b[0m\u001b[1;32m   1318\u001b[0m             \u001b[0;32mexcept\u001b[0m \u001b[0mOSError\u001b[0m \u001b[0;32mas\u001b[0m \u001b[0merr\u001b[0m\u001b[0;34m:\u001b[0m \u001b[0;31m# timeout error\u001b[0m\u001b[0;34m\u001b[0m\u001b[0;34m\u001b[0m\u001b[0m\n",
      "\u001b[0;32m/snap/jupyter/6/lib/python3.7/http/client.py\u001b[0m in \u001b[0;36mrequest\u001b[0;34m(self, method, url, body, headers, encode_chunked)\u001b[0m\n\u001b[1;32m   1228\u001b[0m         \u001b[0;34m\"\"\"Send a complete request to the server.\"\"\"\u001b[0m\u001b[0;34m\u001b[0m\u001b[0;34m\u001b[0m\u001b[0m\n\u001b[0;32m-> 1229\u001b[0;31m         \u001b[0mself\u001b[0m\u001b[0;34m.\u001b[0m\u001b[0m_send_request\u001b[0m\u001b[0;34m(\u001b[0m\u001b[0mmethod\u001b[0m\u001b[0;34m,\u001b[0m \u001b[0murl\u001b[0m\u001b[0;34m,\u001b[0m \u001b[0mbody\u001b[0m\u001b[0;34m,\u001b[0m \u001b[0mheaders\u001b[0m\u001b[0;34m,\u001b[0m \u001b[0mencode_chunked\u001b[0m\u001b[0;34m)\u001b[0m\u001b[0;34m\u001b[0m\u001b[0;34m\u001b[0m\u001b[0m\n\u001b[0m\u001b[1;32m   1230\u001b[0m \u001b[0;34m\u001b[0m\u001b[0m\n",
      "\u001b[0;32m/snap/jupyter/6/lib/python3.7/http/client.py\u001b[0m in \u001b[0;36m_send_request\u001b[0;34m(self, method, url, body, headers, encode_chunked)\u001b[0m\n\u001b[1;32m   1274\u001b[0m             \u001b[0mbody\u001b[0m \u001b[0;34m=\u001b[0m \u001b[0m_encode\u001b[0m\u001b[0;34m(\u001b[0m\u001b[0mbody\u001b[0m\u001b[0;34m,\u001b[0m \u001b[0;34m'body'\u001b[0m\u001b[0;34m)\u001b[0m\u001b[0;34m\u001b[0m\u001b[0;34m\u001b[0m\u001b[0m\n\u001b[0;32m-> 1275\u001b[0;31m         \u001b[0mself\u001b[0m\u001b[0;34m.\u001b[0m\u001b[0mendheaders\u001b[0m\u001b[0;34m(\u001b[0m\u001b[0mbody\u001b[0m\u001b[0;34m,\u001b[0m \u001b[0mencode_chunked\u001b[0m\u001b[0;34m=\u001b[0m\u001b[0mencode_chunked\u001b[0m\u001b[0;34m)\u001b[0m\u001b[0;34m\u001b[0m\u001b[0;34m\u001b[0m\u001b[0m\n\u001b[0m\u001b[1;32m   1276\u001b[0m \u001b[0;34m\u001b[0m\u001b[0m\n",
      "\u001b[0;32m/snap/jupyter/6/lib/python3.7/http/client.py\u001b[0m in \u001b[0;36mendheaders\u001b[0;34m(self, message_body, encode_chunked)\u001b[0m\n\u001b[1;32m   1223\u001b[0m             \u001b[0;32mraise\u001b[0m \u001b[0mCannotSendHeader\u001b[0m\u001b[0;34m(\u001b[0m\u001b[0;34m)\u001b[0m\u001b[0;34m\u001b[0m\u001b[0;34m\u001b[0m\u001b[0m\n\u001b[0;32m-> 1224\u001b[0;31m         \u001b[0mself\u001b[0m\u001b[0;34m.\u001b[0m\u001b[0m_send_output\u001b[0m\u001b[0;34m(\u001b[0m\u001b[0mmessage_body\u001b[0m\u001b[0;34m,\u001b[0m \u001b[0mencode_chunked\u001b[0m\u001b[0;34m=\u001b[0m\u001b[0mencode_chunked\u001b[0m\u001b[0;34m)\u001b[0m\u001b[0;34m\u001b[0m\u001b[0;34m\u001b[0m\u001b[0m\n\u001b[0m\u001b[1;32m   1225\u001b[0m \u001b[0;34m\u001b[0m\u001b[0m\n",
      "\u001b[0;32m/snap/jupyter/6/lib/python3.7/http/client.py\u001b[0m in \u001b[0;36m_send_output\u001b[0;34m(self, message_body, encode_chunked)\u001b[0m\n\u001b[1;32m   1015\u001b[0m         \u001b[0;32mdel\u001b[0m \u001b[0mself\u001b[0m\u001b[0;34m.\u001b[0m\u001b[0m_buffer\u001b[0m\u001b[0;34m[\u001b[0m\u001b[0;34m:\u001b[0m\u001b[0;34m]\u001b[0m\u001b[0;34m\u001b[0m\u001b[0;34m\u001b[0m\u001b[0m\n\u001b[0;32m-> 1016\u001b[0;31m         \u001b[0mself\u001b[0m\u001b[0;34m.\u001b[0m\u001b[0msend\u001b[0m\u001b[0;34m(\u001b[0m\u001b[0mmsg\u001b[0m\u001b[0;34m)\u001b[0m\u001b[0;34m\u001b[0m\u001b[0;34m\u001b[0m\u001b[0m\n\u001b[0m\u001b[1;32m   1017\u001b[0m \u001b[0;34m\u001b[0m\u001b[0m\n",
      "\u001b[0;32m/snap/jupyter/6/lib/python3.7/http/client.py\u001b[0m in \u001b[0;36msend\u001b[0;34m(self, data)\u001b[0m\n\u001b[1;32m    955\u001b[0m             \u001b[0;32mif\u001b[0m \u001b[0mself\u001b[0m\u001b[0;34m.\u001b[0m\u001b[0mauto_open\u001b[0m\u001b[0;34m:\u001b[0m\u001b[0;34m\u001b[0m\u001b[0;34m\u001b[0m\u001b[0m\n\u001b[0;32m--> 956\u001b[0;31m                 \u001b[0mself\u001b[0m\u001b[0;34m.\u001b[0m\u001b[0mconnect\u001b[0m\u001b[0;34m(\u001b[0m\u001b[0;34m)\u001b[0m\u001b[0;34m\u001b[0m\u001b[0;34m\u001b[0m\u001b[0m\n\u001b[0m\u001b[1;32m    957\u001b[0m             \u001b[0;32melse\u001b[0m\u001b[0;34m:\u001b[0m\u001b[0;34m\u001b[0m\u001b[0;34m\u001b[0m\u001b[0m\n",
      "\u001b[0;32m/snap/jupyter/6/lib/python3.7/http/client.py\u001b[0m in \u001b[0;36mconnect\u001b[0;34m(self)\u001b[0m\n\u001b[1;32m   1391\u001b[0m             self.sock = self._context.wrap_socket(self.sock,\n\u001b[0;32m-> 1392\u001b[0;31m                                                   server_hostname=server_hostname)\n\u001b[0m\u001b[1;32m   1393\u001b[0m \u001b[0;34m\u001b[0m\u001b[0m\n",
      "\u001b[0;32m/snap/jupyter/6/lib/python3.7/ssl.py\u001b[0m in \u001b[0;36mwrap_socket\u001b[0;34m(self, sock, server_side, do_handshake_on_connect, suppress_ragged_eofs, server_hostname, session)\u001b[0m\n\u001b[1;32m    411\u001b[0m             \u001b[0mcontext\u001b[0m\u001b[0;34m=\u001b[0m\u001b[0mself\u001b[0m\u001b[0;34m,\u001b[0m\u001b[0;34m\u001b[0m\u001b[0;34m\u001b[0m\u001b[0m\n\u001b[0;32m--> 412\u001b[0;31m             \u001b[0msession\u001b[0m\u001b[0;34m=\u001b[0m\u001b[0msession\u001b[0m\u001b[0;34m\u001b[0m\u001b[0;34m\u001b[0m\u001b[0m\n\u001b[0m\u001b[1;32m    413\u001b[0m         )\n",
      "\u001b[0;32m/snap/jupyter/6/lib/python3.7/ssl.py\u001b[0m in \u001b[0;36m_create\u001b[0;34m(cls, sock, server_side, do_handshake_on_connect, suppress_ragged_eofs, server_hostname, context, session)\u001b[0m\n\u001b[1;32m    852\u001b[0m                         \u001b[0;32mraise\u001b[0m \u001b[0mValueError\u001b[0m\u001b[0;34m(\u001b[0m\u001b[0;34m\"do_handshake_on_connect should not be specified for non-blocking sockets\"\u001b[0m\u001b[0;34m)\u001b[0m\u001b[0;34m\u001b[0m\u001b[0;34m\u001b[0m\u001b[0m\n\u001b[0;32m--> 853\u001b[0;31m                     \u001b[0mself\u001b[0m\u001b[0;34m.\u001b[0m\u001b[0mdo_handshake\u001b[0m\u001b[0;34m(\u001b[0m\u001b[0;34m)\u001b[0m\u001b[0;34m\u001b[0m\u001b[0;34m\u001b[0m\u001b[0m\n\u001b[0m\u001b[1;32m    854\u001b[0m             \u001b[0;32mexcept\u001b[0m \u001b[0;34m(\u001b[0m\u001b[0mOSError\u001b[0m\u001b[0;34m,\u001b[0m \u001b[0mValueError\u001b[0m\u001b[0;34m)\u001b[0m\u001b[0;34m:\u001b[0m\u001b[0;34m\u001b[0m\u001b[0;34m\u001b[0m\u001b[0m\n",
      "\u001b[0;32m/snap/jupyter/6/lib/python3.7/ssl.py\u001b[0m in \u001b[0;36mdo_handshake\u001b[0;34m(self, block)\u001b[0m\n\u001b[1;32m   1116\u001b[0m                 \u001b[0mself\u001b[0m\u001b[0;34m.\u001b[0m\u001b[0msettimeout\u001b[0m\u001b[0;34m(\u001b[0m\u001b[0;32mNone\u001b[0m\u001b[0;34m)\u001b[0m\u001b[0;34m\u001b[0m\u001b[0;34m\u001b[0m\u001b[0m\n\u001b[0;32m-> 1117\u001b[0;31m             \u001b[0mself\u001b[0m\u001b[0;34m.\u001b[0m\u001b[0m_sslobj\u001b[0m\u001b[0;34m.\u001b[0m\u001b[0mdo_handshake\u001b[0m\u001b[0;34m(\u001b[0m\u001b[0;34m)\u001b[0m\u001b[0;34m\u001b[0m\u001b[0;34m\u001b[0m\u001b[0m\n\u001b[0m\u001b[1;32m   1118\u001b[0m         \u001b[0;32mfinally\u001b[0m\u001b[0;34m:\u001b[0m\u001b[0;34m\u001b[0m\u001b[0;34m\u001b[0m\u001b[0m\n",
      "\u001b[0;31mSSLCertVerificationError\u001b[0m: [SSL: CERTIFICATE_VERIFY_FAILED] certificate verify failed: unable to get local issuer certificate (_ssl.c:1056)",
      "\nDuring handling of the above exception, another exception occurred:\n",
      "\u001b[0;31mURLError\u001b[0m                                  Traceback (most recent call last)",
      "\u001b[0;32m/home/bako/snap/jupyter/common/lib/python3.7/site-packages/tensorflow/python/keras/utils/data_utils.py\u001b[0m in \u001b[0;36mget_file\u001b[0;34m(fname, origin, untar, md5_hash, file_hash, cache_subdir, hash_algorithm, extract, archive_format, cache_dir)\u001b[0m\n\u001b[1;32m    262\u001b[0m       \u001b[0;32mtry\u001b[0m\u001b[0;34m:\u001b[0m\u001b[0;34m\u001b[0m\u001b[0;34m\u001b[0m\u001b[0m\n\u001b[0;32m--> 263\u001b[0;31m         \u001b[0murlretrieve\u001b[0m\u001b[0;34m(\u001b[0m\u001b[0morigin\u001b[0m\u001b[0;34m,\u001b[0m \u001b[0mfpath\u001b[0m\u001b[0;34m,\u001b[0m \u001b[0mdl_progress\u001b[0m\u001b[0;34m)\u001b[0m\u001b[0;34m\u001b[0m\u001b[0;34m\u001b[0m\u001b[0m\n\u001b[0m\u001b[1;32m    264\u001b[0m       \u001b[0;32mexcept\u001b[0m \u001b[0mHTTPError\u001b[0m \u001b[0;32mas\u001b[0m \u001b[0me\u001b[0m\u001b[0;34m:\u001b[0m\u001b[0;34m\u001b[0m\u001b[0;34m\u001b[0m\u001b[0m\n",
      "\u001b[0;32m/snap/jupyter/6/lib/python3.7/urllib/request.py\u001b[0m in \u001b[0;36murlretrieve\u001b[0;34m(url, filename, reporthook, data)\u001b[0m\n\u001b[1;32m    246\u001b[0m \u001b[0;34m\u001b[0m\u001b[0m\n\u001b[0;32m--> 247\u001b[0;31m     \u001b[0;32mwith\u001b[0m \u001b[0mcontextlib\u001b[0m\u001b[0;34m.\u001b[0m\u001b[0mclosing\u001b[0m\u001b[0;34m(\u001b[0m\u001b[0murlopen\u001b[0m\u001b[0;34m(\u001b[0m\u001b[0murl\u001b[0m\u001b[0;34m,\u001b[0m \u001b[0mdata\u001b[0m\u001b[0;34m)\u001b[0m\u001b[0;34m)\u001b[0m \u001b[0;32mas\u001b[0m \u001b[0mfp\u001b[0m\u001b[0;34m:\u001b[0m\u001b[0;34m\u001b[0m\u001b[0;34m\u001b[0m\u001b[0m\n\u001b[0m\u001b[1;32m    248\u001b[0m         \u001b[0mheaders\u001b[0m \u001b[0;34m=\u001b[0m \u001b[0mfp\u001b[0m\u001b[0;34m.\u001b[0m\u001b[0minfo\u001b[0m\u001b[0;34m(\u001b[0m\u001b[0;34m)\u001b[0m\u001b[0;34m\u001b[0m\u001b[0;34m\u001b[0m\u001b[0m\n",
      "\u001b[0;32m/snap/jupyter/6/lib/python3.7/urllib/request.py\u001b[0m in \u001b[0;36murlopen\u001b[0;34m(url, data, timeout, cafile, capath, cadefault, context)\u001b[0m\n\u001b[1;32m    221\u001b[0m         \u001b[0mopener\u001b[0m \u001b[0;34m=\u001b[0m \u001b[0m_opener\u001b[0m\u001b[0;34m\u001b[0m\u001b[0;34m\u001b[0m\u001b[0m\n\u001b[0;32m--> 222\u001b[0;31m     \u001b[0;32mreturn\u001b[0m \u001b[0mopener\u001b[0m\u001b[0;34m.\u001b[0m\u001b[0mopen\u001b[0m\u001b[0;34m(\u001b[0m\u001b[0murl\u001b[0m\u001b[0;34m,\u001b[0m \u001b[0mdata\u001b[0m\u001b[0;34m,\u001b[0m \u001b[0mtimeout\u001b[0m\u001b[0;34m)\u001b[0m\u001b[0;34m\u001b[0m\u001b[0;34m\u001b[0m\u001b[0m\n\u001b[0m\u001b[1;32m    223\u001b[0m \u001b[0;34m\u001b[0m\u001b[0m\n",
      "\u001b[0;32m/snap/jupyter/6/lib/python3.7/urllib/request.py\u001b[0m in \u001b[0;36mopen\u001b[0;34m(self, fullurl, data, timeout)\u001b[0m\n\u001b[1;32m    524\u001b[0m \u001b[0;34m\u001b[0m\u001b[0m\n\u001b[0;32m--> 525\u001b[0;31m         \u001b[0mresponse\u001b[0m \u001b[0;34m=\u001b[0m \u001b[0mself\u001b[0m\u001b[0;34m.\u001b[0m\u001b[0m_open\u001b[0m\u001b[0;34m(\u001b[0m\u001b[0mreq\u001b[0m\u001b[0;34m,\u001b[0m \u001b[0mdata\u001b[0m\u001b[0;34m)\u001b[0m\u001b[0;34m\u001b[0m\u001b[0;34m\u001b[0m\u001b[0m\n\u001b[0m\u001b[1;32m    526\u001b[0m \u001b[0;34m\u001b[0m\u001b[0m\n",
      "\u001b[0;32m/snap/jupyter/6/lib/python3.7/urllib/request.py\u001b[0m in \u001b[0;36m_open\u001b[0;34m(self, req, data)\u001b[0m\n\u001b[1;32m    542\u001b[0m         result = self._call_chain(self.handle_open, protocol, protocol +\n\u001b[0;32m--> 543\u001b[0;31m                                   '_open', req)\n\u001b[0m\u001b[1;32m    544\u001b[0m         \u001b[0;32mif\u001b[0m \u001b[0mresult\u001b[0m\u001b[0;34m:\u001b[0m\u001b[0;34m\u001b[0m\u001b[0;34m\u001b[0m\u001b[0m\n",
      "\u001b[0;32m/snap/jupyter/6/lib/python3.7/urllib/request.py\u001b[0m in \u001b[0;36m_call_chain\u001b[0;34m(self, chain, kind, meth_name, *args)\u001b[0m\n\u001b[1;32m    502\u001b[0m             \u001b[0mfunc\u001b[0m \u001b[0;34m=\u001b[0m \u001b[0mgetattr\u001b[0m\u001b[0;34m(\u001b[0m\u001b[0mhandler\u001b[0m\u001b[0;34m,\u001b[0m \u001b[0mmeth_name\u001b[0m\u001b[0;34m)\u001b[0m\u001b[0;34m\u001b[0m\u001b[0;34m\u001b[0m\u001b[0m\n\u001b[0;32m--> 503\u001b[0;31m             \u001b[0mresult\u001b[0m \u001b[0;34m=\u001b[0m \u001b[0mfunc\u001b[0m\u001b[0;34m(\u001b[0m\u001b[0;34m*\u001b[0m\u001b[0margs\u001b[0m\u001b[0;34m)\u001b[0m\u001b[0;34m\u001b[0m\u001b[0;34m\u001b[0m\u001b[0m\n\u001b[0m\u001b[1;32m    504\u001b[0m             \u001b[0;32mif\u001b[0m \u001b[0mresult\u001b[0m \u001b[0;32mis\u001b[0m \u001b[0;32mnot\u001b[0m \u001b[0;32mNone\u001b[0m\u001b[0;34m:\u001b[0m\u001b[0;34m\u001b[0m\u001b[0;34m\u001b[0m\u001b[0m\n",
      "\u001b[0;32m/snap/jupyter/6/lib/python3.7/urllib/request.py\u001b[0m in \u001b[0;36mhttps_open\u001b[0;34m(self, req)\u001b[0m\n\u001b[1;32m   1359\u001b[0m             return self.do_open(http.client.HTTPSConnection, req,\n\u001b[0;32m-> 1360\u001b[0;31m                 context=self._context, check_hostname=self._check_hostname)\n\u001b[0m\u001b[1;32m   1361\u001b[0m \u001b[0;34m\u001b[0m\u001b[0m\n",
      "\u001b[0;32m/snap/jupyter/6/lib/python3.7/urllib/request.py\u001b[0m in \u001b[0;36mdo_open\u001b[0;34m(self, http_class, req, **http_conn_args)\u001b[0m\n\u001b[1;32m   1318\u001b[0m             \u001b[0;32mexcept\u001b[0m \u001b[0mOSError\u001b[0m \u001b[0;32mas\u001b[0m \u001b[0merr\u001b[0m\u001b[0;34m:\u001b[0m \u001b[0;31m# timeout error\u001b[0m\u001b[0;34m\u001b[0m\u001b[0;34m\u001b[0m\u001b[0m\n\u001b[0;32m-> 1319\u001b[0;31m                 \u001b[0;32mraise\u001b[0m \u001b[0mURLError\u001b[0m\u001b[0;34m(\u001b[0m\u001b[0merr\u001b[0m\u001b[0;34m)\u001b[0m\u001b[0;34m\u001b[0m\u001b[0;34m\u001b[0m\u001b[0m\n\u001b[0m\u001b[1;32m   1320\u001b[0m             \u001b[0mr\u001b[0m \u001b[0;34m=\u001b[0m \u001b[0mh\u001b[0m\u001b[0;34m.\u001b[0m\u001b[0mgetresponse\u001b[0m\u001b[0;34m(\u001b[0m\u001b[0;34m)\u001b[0m\u001b[0;34m\u001b[0m\u001b[0;34m\u001b[0m\u001b[0m\n",
      "\u001b[0;31mURLError\u001b[0m: <urlopen error [SSL: CERTIFICATE_VERIFY_FAILED] certificate verify failed: unable to get local issuer certificate (_ssl.c:1056)>",
      "\nDuring handling of the above exception, another exception occurred:\n",
      "\u001b[0;31mException\u001b[0m                                 Traceback (most recent call last)",
      "\u001b[0;32m<ipython-input-3-c2a67c43410e>\u001b[0m in \u001b[0;36m<module>\u001b[0;34m\u001b[0m\n\u001b[1;32m      1\u001b[0m \u001b[0;32mfrom\u001b[0m \u001b[0mkeras\u001b[0m\u001b[0;34m.\u001b[0m\u001b[0mdatasets\u001b[0m \u001b[0;32mimport\u001b[0m \u001b[0mmnist\u001b[0m\u001b[0;34m\u001b[0m\u001b[0;34m\u001b[0m\u001b[0m\n\u001b[0;32m----> 2\u001b[0;31m \u001b[0;34m(\u001b[0m\u001b[0mX_train\u001b[0m\u001b[0;34m,\u001b[0m \u001b[0my_train\u001b[0m\u001b[0;34m)\u001b[0m\u001b[0;34m,\u001b[0m \u001b[0;34m(\u001b[0m\u001b[0mX_test\u001b[0m\u001b[0;34m,\u001b[0m \u001b[0my_test\u001b[0m\u001b[0;34m)\u001b[0m \u001b[0;34m=\u001b[0m \u001b[0mmnist\u001b[0m\u001b[0;34m.\u001b[0m\u001b[0mload_data\u001b[0m\u001b[0;34m(\u001b[0m\u001b[0;34m)\u001b[0m\u001b[0;34m\u001b[0m\u001b[0;34m\u001b[0m\u001b[0m\n\u001b[0m",
      "\u001b[0;32m/home/bako/snap/jupyter/common/lib/python3.7/site-packages/tensorflow/python/keras/datasets/mnist.py\u001b[0m in \u001b[0;36mload_data\u001b[0;34m(path)\u001b[0m\n\u001b[1;32m     60\u001b[0m       \u001b[0morigin\u001b[0m\u001b[0;34m=\u001b[0m\u001b[0morigin_folder\u001b[0m \u001b[0;34m+\u001b[0m \u001b[0;34m'mnist.npz'\u001b[0m\u001b[0;34m,\u001b[0m\u001b[0;34m\u001b[0m\u001b[0;34m\u001b[0m\u001b[0m\n\u001b[1;32m     61\u001b[0m       \u001b[0mfile_hash\u001b[0m\u001b[0;34m=\u001b[0m\u001b[0;34m\u001b[0m\u001b[0;34m\u001b[0m\u001b[0m\n\u001b[0;32m---> 62\u001b[0;31m       '731c5ac602752760c8e48fbffcf8c3b850d9dc2a2aedcf2cc48468fc17b673d1')\n\u001b[0m\u001b[1;32m     63\u001b[0m   \u001b[0;32mwith\u001b[0m \u001b[0mnp\u001b[0m\u001b[0;34m.\u001b[0m\u001b[0mload\u001b[0m\u001b[0;34m(\u001b[0m\u001b[0mpath\u001b[0m\u001b[0;34m,\u001b[0m \u001b[0mallow_pickle\u001b[0m\u001b[0;34m=\u001b[0m\u001b[0;32mTrue\u001b[0m\u001b[0;34m)\u001b[0m \u001b[0;32mas\u001b[0m \u001b[0mf\u001b[0m\u001b[0;34m:\u001b[0m\u001b[0;34m\u001b[0m\u001b[0;34m\u001b[0m\u001b[0m\n\u001b[1;32m     64\u001b[0m     \u001b[0mx_train\u001b[0m\u001b[0;34m,\u001b[0m \u001b[0my_train\u001b[0m \u001b[0;34m=\u001b[0m \u001b[0mf\u001b[0m\u001b[0;34m[\u001b[0m\u001b[0;34m'x_train'\u001b[0m\u001b[0;34m]\u001b[0m\u001b[0;34m,\u001b[0m \u001b[0mf\u001b[0m\u001b[0;34m[\u001b[0m\u001b[0;34m'y_train'\u001b[0m\u001b[0;34m]\u001b[0m\u001b[0;34m\u001b[0m\u001b[0;34m\u001b[0m\u001b[0m\n",
      "\u001b[0;32m/home/bako/snap/jupyter/common/lib/python3.7/site-packages/tensorflow/python/keras/utils/data_utils.py\u001b[0m in \u001b[0;36mget_file\u001b[0;34m(fname, origin, untar, md5_hash, file_hash, cache_subdir, hash_algorithm, extract, archive_format, cache_dir)\u001b[0m\n\u001b[1;32m    265\u001b[0m         \u001b[0;32mraise\u001b[0m \u001b[0mException\u001b[0m\u001b[0;34m(\u001b[0m\u001b[0merror_msg\u001b[0m\u001b[0;34m.\u001b[0m\u001b[0mformat\u001b[0m\u001b[0;34m(\u001b[0m\u001b[0morigin\u001b[0m\u001b[0;34m,\u001b[0m \u001b[0me\u001b[0m\u001b[0;34m.\u001b[0m\u001b[0mcode\u001b[0m\u001b[0;34m,\u001b[0m \u001b[0me\u001b[0m\u001b[0;34m.\u001b[0m\u001b[0mmsg\u001b[0m\u001b[0;34m)\u001b[0m\u001b[0;34m)\u001b[0m\u001b[0;34m\u001b[0m\u001b[0;34m\u001b[0m\u001b[0m\n\u001b[1;32m    266\u001b[0m       \u001b[0;32mexcept\u001b[0m \u001b[0mURLError\u001b[0m \u001b[0;32mas\u001b[0m \u001b[0me\u001b[0m\u001b[0;34m:\u001b[0m\u001b[0;34m\u001b[0m\u001b[0;34m\u001b[0m\u001b[0m\n\u001b[0;32m--> 267\u001b[0;31m         \u001b[0;32mraise\u001b[0m \u001b[0mException\u001b[0m\u001b[0;34m(\u001b[0m\u001b[0merror_msg\u001b[0m\u001b[0;34m.\u001b[0m\u001b[0mformat\u001b[0m\u001b[0;34m(\u001b[0m\u001b[0morigin\u001b[0m\u001b[0;34m,\u001b[0m \u001b[0me\u001b[0m\u001b[0;34m.\u001b[0m\u001b[0merrno\u001b[0m\u001b[0;34m,\u001b[0m \u001b[0me\u001b[0m\u001b[0;34m.\u001b[0m\u001b[0mreason\u001b[0m\u001b[0;34m)\u001b[0m\u001b[0;34m)\u001b[0m\u001b[0;34m\u001b[0m\u001b[0;34m\u001b[0m\u001b[0m\n\u001b[0m\u001b[1;32m    268\u001b[0m     \u001b[0;32mexcept\u001b[0m \u001b[0;34m(\u001b[0m\u001b[0mException\u001b[0m\u001b[0;34m,\u001b[0m \u001b[0mKeyboardInterrupt\u001b[0m\u001b[0;34m)\u001b[0m \u001b[0;32mas\u001b[0m \u001b[0me\u001b[0m\u001b[0;34m:\u001b[0m\u001b[0;34m\u001b[0m\u001b[0;34m\u001b[0m\u001b[0m\n\u001b[1;32m    269\u001b[0m       \u001b[0;32mif\u001b[0m \u001b[0mos\u001b[0m\u001b[0;34m.\u001b[0m\u001b[0mpath\u001b[0m\u001b[0;34m.\u001b[0m\u001b[0mexists\u001b[0m\u001b[0;34m(\u001b[0m\u001b[0mfpath\u001b[0m\u001b[0;34m)\u001b[0m\u001b[0;34m:\u001b[0m\u001b[0;34m\u001b[0m\u001b[0;34m\u001b[0m\u001b[0m\n",
      "\u001b[0;31mException\u001b[0m: URL fetch failure on https://storage.googleapis.com/tensorflow/tf-keras-datasets/mnist.npz: None -- [SSL: CERTIFICATE_VERIFY_FAILED] certificate verify failed: unable to get local issuer certificate (_ssl.c:1056)"
     ]
    }
   ],
   "source": [
    "from keras.datasets import mnist\n",
    "(X_train, y_train), (X_test, y_test) = mnist.load_data()\n"
   ]
  },
  {
   "cell_type": "markdown",
   "metadata": {
    "colab_type": "text",
    "id": "D6mGsL4pmlCA"
   },
   "source": [
    "**2.1.2 Exploring the data**\n",
    "\n",
    "Now that the data has been imported, let's explore these digits:"
   ]
  },
  {
   "cell_type": "code",
   "execution_count": 4,
   "metadata": {},
   "outputs": [
    {
     "name": "stdout",
     "output_type": "stream",
     "text": [
      "Collecting keras\n",
      "  Downloading https://files.pythonhosted.org/packages/44/e1/dc0757b20b56c980b5553c1b5c4c32d378c7055ab7bfa92006801ad359ab/Keras-2.4.3-py2.py3-none-any.whl\n",
      "Collecting pyyaml (from keras)\n",
      "\u001b[?25l  Downloading https://files.pythonhosted.org/packages/64/c2/b80047c7ac2478f9501676c988a5411ed5572f35d1beff9cae07d321512c/PyYAML-5.3.1.tar.gz (269kB)\n",
      "\u001b[K     |████████████████████████████████| 276kB 921kB/s eta 0:00:01\n",
      "\u001b[?25hRequirement already satisfied: numpy>=1.9.1 in /home/bako/snap/jupyter/common/lib/python3.7/site-packages (from keras) (1.19.1)\n",
      "Collecting h5py (from keras)\n",
      "\u001b[?25l  Downloading https://files.pythonhosted.org/packages/3f/c0/abde58b837e066bca19a3f7332d9d0493521d7dd6b48248451a9e3fe2214/h5py-2.10.0-cp37-cp37m-manylinux1_x86_64.whl (2.9MB)\n",
      "\u001b[K     |████████████████████████████████| 2.9MB 2.4MB/s eta 0:00:01     |███████████████████████████████▋| 2.8MB 2.4MB/s eta 0:00:01\n",
      "\u001b[?25hCollecting scipy>=0.14 (from keras)\n",
      "\u001b[?25l  Downloading https://files.pythonhosted.org/packages/30/45/ff9df4beceab76f979ee0ea7f5d248596aa5b0c179aa3d30589a3f4549eb/scipy-1.5.1-cp37-cp37m-manylinux1_x86_64.whl (25.9MB)\n",
      "\u001b[K     |████████████████████████████████| 25.9MB 1.9MB/s eta 0:00:01    |▏                               | 163kB 2.1MB/s eta 0:00:13     |█████████▊                      | 7.9MB 1.6MB/s eta 0:00:12     |████████████████▊               | 13.5MB 1.9MB/s eta 0:00:07     |███████████████████▋            | 15.9MB 1.7MB/s eta 0:00:06     |██████████████████████████      | 21.0MB 1.9MB/s eta 0:00:03     |██████████████████████████████▊ | 24.8MB 1.9MB/s eta 0:00:01\n",
      "\u001b[?25hRequirement already satisfied: six in /snap/jupyter/6/lib/python3.7/site-packages (from h5py->keras) (1.12.0)\n",
      "Building wheels for collected packages: pyyaml\n",
      "  Building wheel for pyyaml (setup.py) ... \u001b[?25ldone\n",
      "\u001b[?25h  Stored in directory: /home/bako/snap/jupyter/6/.cache/pip/wheels/a7/c1/ea/cf5bd31012e735dc1dfea3131a2d5eae7978b251083d6247bd\n",
      "Successfully built pyyaml\n",
      "Installing collected packages: pyyaml, h5py, scipy, keras\n",
      "Successfully installed h5py-2.10.0 keras-2.4.3 pyyaml-5.3.1 scipy-1.5.1\n"
     ]
    }
   ],
   "source": [
    "!pip install keras"
   ]
  },
  {
   "cell_type": "code",
   "execution_count": null,
   "metadata": {
    "colab": {
     "base_uri": "https://localhost:8080/",
     "height": 104
    },
    "colab_type": "code",
    "id": "QXio9Etlm2xX",
    "outputId": "7bf96f93-0a43-4806-d9b7-846c2929af2b"
   },
   "outputs": [],
   "source": [
    "print('Size of the training_set: ', X_train.shape)\n",
    "print('Size of the test_set: ', X_test.shape)\n",
    "print('Shape of each image: ', X_train[0].shape)\n",
    "print('Total number of classes: ', len(np.unique(y_train)))\n",
    "print('Unique class labels: ', np.unique(y_train))\n"
   ]
  },
  {
   "cell_type": "markdown",
   "metadata": {
    "colab_type": "text",
    "id": "8hQqNt3NnBwt"
   },
   "source": [
    "From the preceding screenshot, we can see that we have **60000** train images, **10000** test images with each\n",
    "image being **28*28** in size, and a total of **10** predictable classes.\n",
    "Now, let's plot **9** handwritten digits. Before that, we will need to import **matplotlib** for plotting:\n"
   ]
  },
  {
   "cell_type": "code",
   "execution_count": null,
   "metadata": {
    "colab": {
     "base_uri": "https://localhost:8080/",
     "height": 248
    },
    "colab_type": "code",
    "id": "ryWJDMrhnXKs",
    "outputId": "0f6b3183-99dd-4342-b8ba-415fbeb07a4b"
   },
   "outputs": [
    {
     "data": {
      "image/png": "[encoded data removed]",
      "text/plain": [
       "<Figure size 432x288 with 9 Axes>"
      ]
     },
     "metadata": {
      "needs_background": "light",
      "tags": []
     },
     "output_type": "display_data"
    }
   ],
   "source": [
    "import matplotlib.pyplot as plt\n",
    "# Plot of 9 random images\n",
    "for i in range(0, 9):\n",
    "  plt.subplot(3,3,1+i) # plot of 3 rows and 3 columns\n",
    "  plt.axis('off') # turn off axis\n",
    "  plt.imshow(X_train[i], cmap='gray') # gray scale\n",
    "plt.show()\n"
   ]
  },
  {
   "cell_type": "markdown",
   "metadata": {
    "colab_type": "text",
    "id": "jWvgtuR-nklS"
   },
   "source": [
    "**Figure 1.1** Visualizing MNIST digits"
   ]
  },
  {
   "cell_type": "markdown",
   "metadata": {
    "colab_type": "text",
    "id": "waq7BH2on9TM"
   },
   "source": [
    "**2.1.3 Defining the hyperparameters**\n",
    "\n",
    "The following are some of the hyperparameters that we will be using throughout our code. These are totally configurable:\n"
   ]
  },
  {
   "cell_type": "code",
   "execution_count": null,
   "metadata": {
    "colab": {},
    "colab_type": "code",
    "id": "-xb0Ey5koU8F"
   },
   "outputs": [],
   "source": [
    "# Number of epochs\n",
    "epochs = 20\n",
    "# Batchsize\n",
    "batch_size = 128\n",
    "# Optimizer for the generator\n",
    "from keras.optimizers import Adam\n",
    "optimizer = Adam(lr=0.01)\n",
    "# try 0.0001\n",
    "# Shape of the input image\n",
    "input_shape = (28,28,1)\n"
   ]
  },
  {
   "cell_type": "markdown",
   "metadata": {
    "colab_type": "text",
    "id": "-6NqyvLNojtG"
   },
   "source": [
    "If you look back at **Lab 1** , you'll see that the optimizer used there was **Adam** . Therefore, we will import the **Adam**\n",
    "**optimizer** from the keras module and set its learning rate, as shown in the preceding code. For most cases that\n",
    "will follow, we will be training for **20 epochs** for ease of comparison.\n"
   ]
  },
  {
   "cell_type": "markdown",
   "metadata": {
    "colab_type": "text",
    "id": "j-dak7DBozSD"
   },
   "source": [
    "**2.2 Building and training a simple deep neural network**\n",
    "\n",
    "Now that we have loaded the data into memory, we need to build a simple neural network model to predict the\n",
    "MNIST digits.\n",
    "\n",
    "**2.2.1 Building a model**\n",
    "\n",
    "We will be building a **Sequential** model. So, let's import it from **Keras** and initialize it with the following code:"
   ]
  },
  {
   "cell_type": "code",
   "execution_count": null,
   "metadata": {
    "colab": {},
    "colab_type": "code",
    "id": "In1oQlzKpB9p"
   },
   "outputs": [],
   "source": [
    "from keras.models import Sequential\n",
    "model = Sequential()\n"
   ]
  },
  {
   "cell_type": "markdown",
   "metadata": {
    "colab_type": "text",
    "id": "4vK1SABJpIlz"
   },
   "source": [
    "The next thing that we need to do is define the **Dense/Perceptron** layer. In Keras, this can be done by importing the **Dense** layer, as follows:"
   ]
  },
  {
   "cell_type": "code",
   "execution_count": null,
   "metadata": {
    "colab": {},
    "colab_type": "code",
    "id": "Px5GTJuYpR-3"
   },
   "outputs": [],
   "source": [
    "from keras.layers import Dense\n"
   ]
  },
  {
   "cell_type": "markdown",
   "metadata": {
    "colab_type": "text",
    "id": "niDelO_opX93"
   },
   "source": [
    "Then, we need to add the **Dense** layer to the **Sequential** model as follows:"
   ]
  },
  {
   "cell_type": "code",
   "execution_count": null,
   "metadata": {
    "colab": {},
    "colab_type": "code",
    "id": "Cejv7gSZpbjY"
   },
   "outputs": [],
   "source": [
    "model.add(Dense(300, input_shape=(784,), activation = 'relu'))\n"
   ]
  },
  {
   "cell_type": "markdown",
   "metadata": {
    "colab_type": "text",
    "id": "39JIDxtopiRG"
   },
   "source": [
    "The **add** command performs the job of appending a layer to the **Sequential** model, in this case, **Dense** .\n",
    "\n",
    "In the **Dense** layer in the preceding code, we have defined the **number of neurons** in the first hidden layer, which is **300** . We have also defined the **input_shape** parameter as being equal to (**784**,) to indicate to the model that it will be accepting input arrays of the shape **(784,)**.\n",
    "This means that the input layer will have 784 neurons.\n",
    "\n",
    "The type of activation function that needs to be applied to the result can be defined with the **activation parameter**. In this case, this is **relu** .\n",
    "\n",
    "Add another **Dense** layer of 300 neurons by using the following code:"
   ]
  },
  {
   "cell_type": "code",
   "execution_count": null,
   "metadata": {
    "colab": {},
    "colab_type": "code",
    "id": "gTcZRTHrqD1f"
   },
   "outputs": [],
   "source": [
    "model.add(Dense(300, activation='relu'))\n"
   ]
  },
  {
   "cell_type": "markdown",
   "metadata": {
    "colab_type": "text",
    "id": "aAHcW_7iqOBx"
   },
   "source": [
    "And the final **Dense** layer with the following code:\n"
   ]
  },
  {
   "cell_type": "code",
   "execution_count": null,
   "metadata": {
    "colab": {},
    "colab_type": "code",
    "id": "R0WDxGdtqSlF"
   },
   "outputs": [],
   "source": [
    "model.add(Dense(10, activation='softmax'))\n"
   ]
  },
  {
   "cell_type": "markdown",
   "metadata": {
    "colab_type": "text",
    "id": "IILmaPSKqbAX"
   },
   "source": [
    "Here, the **final layer has 10 neurons** as we need it to predict scores for **10 classes**. The activation function that has been chosen here is **softmax** so that we can limit the scores between 0 and 1, and the sum of\n",
    "scores to 1.\n",
    "\n",
    "Compiling the model in **Keras** is super-easy and can be done with following code:\n"
   ]
  },
  {
   "cell_type": "code",
   "execution_count": null,
   "metadata": {
    "colab": {},
    "colab_type": "code",
    "id": "7uLhuErjqn58"
   },
   "outputs": [],
   "source": [
    "model.compile(loss = 'sparse_categorical_crossentropy', optimizer=optimizer ,\n",
    "metrics = ['accuracy'])\n"
   ]
  },
  {
   "cell_type": "markdown",
   "metadata": {
    "colab_type": "text",
    "id": "mGWyAFzUqt7K"
   },
   "source": [
    "The **metrics** that need to be monitored during this learning process must be specified as a list to the **metrics parameter** of the **compile** method.\n",
    "\n",
    "Print out the **summary** of the model with the following code:\n"
   ]
  },
  {
   "cell_type": "code",
   "execution_count": null,
   "metadata": {
    "colab": {
     "base_uri": "https://localhost:8080/",
     "height": 260
    },
    "colab_type": "code",
    "id": "3pyVIjhDq5uu",
    "outputId": "edd4f3c9-1588-41b0-9e90-43d12f536e91"
   },
   "outputs": [
    {
     "name": "stdout",
     "output_type": "stream",
     "text": [
      "Model: \"sequential_1\"\n",
      "_________________________________________________________________\n",
      "Layer (type)                 Output Shape              Param #   \n",
      "=================================================================\n",
      "dense_1 (Dense)              (None, 300)               235500    \n",
      "_________________________________________________________________\n",
      "dense_2 (Dense)              (None, 300)               90300     \n",
      "_________________________________________________________________\n",
      "dense_3 (Dense)              (None, 10)                3010      \n",
      "=================================================================\n",
      "Total params: 328,810\n",
      "Trainable params: 328,810\n",
      "Non-trainable params: 0\n",
      "_________________________________________________________________\n"
     ]
    }
   ],
   "source": [
    "model.summary()\n"
   ]
  },
  {
   "cell_type": "markdown",
   "metadata": {
    "colab_type": "text",
    "id": "2D3C80QLrC1E"
   },
   "source": [
    "Notice that this model has **328,810 trainable parameters**, which is reasonable.\n",
    "\n",
    "Now, split the **train** data into train and **validation** data by using the **train_test_split** function that we imported from **sklearn** :\n"
   ]
  },
  {
   "cell_type": "code",
   "execution_count": null,
   "metadata": {
    "colab": {
     "base_uri": "https://localhost:8080/",
     "height": 69
    },
    "colab_type": "code",
    "id": "CjT9rlBkrR_1",
    "outputId": "b05ff993-7e91-4c16-a03f-36c2473a9853"
   },
   "outputs": [
    {
     "name": "stdout",
     "output_type": "stream",
     "text": [
      "Training Examples 55000\n",
      "Validation Examples 5000\n",
      "Test Examples 10000\n"
     ]
    }
   ],
   "source": [
    "from sklearn.model_selection import train_test_split\n",
    "X_train, X_val, y_train, y_val = train_test_split(X_train, y_train, stratify =\n",
    "y_train, test_size = 0.08333, random_state=42)\n",
    "X_train = X_train.reshape(-1, 784)\n",
    "X_val = X_val.reshape(-1, 784)\n",
    "X_test = X_test.reshape(-1, 784)\n",
    "print('Training Examples', X_train.shape[0])\n",
    "print('Validation Examples', X_val.shape[0])\n",
    "print('Test Examples', X_test.shape[0])\n"
   ]
  },
  {
   "cell_type": "markdown",
   "metadata": {
    "colab_type": "text",
    "id": "cPtaCUn1rXco"
   },
   "source": [
    "We have split the data so that we end up with 55,000 training examples and 5,00 validation examples.\n",
    "\n",
    "You will also see that we have reshaped the arrays so that each image is of **shape(784,)**. This is because we have defined the model to accept images/arrays of **shape(784,)** .\n",
    "We will now train our model on 55,000 **training** examples, **validate** on 5,000 examples, and **test** on 10,000 examples.\n",
    "\n",
    "Assigning the **fit** to a variable stores relevant information inside it, such as **train** and **validation loss** and\n",
    "**accuracy** at each epoch , which can then be used for plotting the learning process.\n"
   ]
  },
  {
   "cell_type": "markdown",
   "metadata": {
    "colab_type": "text",
    "id": "KTY92UQlr2rK"
   },
   "source": [
    "**2.2.2 Fitting a model**\n",
    "\n",
    "To fit a model in **Keras**, along with train digits and train labels, call the fit method of the model with the\n",
    "following parameters:\n",
    "\n",
    "*  epochs : The number of epochs\n",
    "*  batch_size : The number of images in each batch\n",
    "*  validation_data : The tuple of validation images and validation labels\n",
    "\n",
    "Look at the Defining the **hyperparameters** section of the lab for the defined values of **epochs** and **batch_size** :"
   ]
  },
  {
   "cell_type": "code",
   "execution_count": null,
   "metadata": {
    "colab": {
     "base_uri": "https://localhost:8080/",
     "height": 729
    },
    "colab_type": "code",
    "id": "FGw_aLz6sP-_",
    "outputId": "0b453d56-02a6-4d2d-8b0c-406f48850912"
   },
   "outputs": [
    {
     "name": "stdout",
     "output_type": "stream",
     "text": [
      "Train on 55000 samples, validate on 5000 samples\n",
      "Epoch 1/20\n",
      "55000/55000 [==============================] - 4s 72us/step - loss: 0.5891 - accuracy: 0.8105 - val_loss: 0.8869 - val_accuracy: 0.7902\n",
      "Epoch 2/20\n",
      "55000/55000 [==============================] - 4s 71us/step - loss: 0.5751 - accuracy: 0.8156 - val_loss: 0.7871 - val_accuracy: 0.8030\n",
      "Epoch 3/20\n",
      "55000/55000 [==============================] - 4s 71us/step - loss: 0.6018 - accuracy: 0.8047 - val_loss: 0.9281 - val_accuracy: 0.7874\n",
      "Epoch 4/20\n",
      "55000/55000 [==============================] - 4s 72us/step - loss: 0.6115 - accuracy: 0.8011 - val_loss: 0.7926 - val_accuracy: 0.8054\n",
      "Epoch 5/20\n",
      "55000/55000 [==============================] - 4s 72us/step - loss: 0.6341 - accuracy: 0.8007 - val_loss: 0.9750 - val_accuracy: 0.7942\n",
      "Epoch 6/20\n",
      "55000/55000 [==============================] - 4s 71us/step - loss: 0.5847 - accuracy: 0.8107 - val_loss: 0.7430 - val_accuracy: 0.8104\n",
      "Epoch 7/20\n",
      "55000/55000 [==============================] - 4s 75us/step - loss: 0.6665 - accuracy: 0.7792 - val_loss: 0.7644 - val_accuracy: 0.7930\n",
      "Epoch 8/20\n",
      "55000/55000 [==============================] - 4s 72us/step - loss: 0.6619 - accuracy: 0.8013 - val_loss: 1.2453 - val_accuracy: 0.7936\n",
      "Epoch 9/20\n",
      "55000/55000 [==============================] - 4s 71us/step - loss: 0.8034 - accuracy: 0.7181 - val_loss: 0.9372 - val_accuracy: 0.7024\n",
      "Epoch 10/20\n",
      "55000/55000 [==============================] - 4s 70us/step - loss: 0.5940 - accuracy: 0.7923 - val_loss: 0.7721 - val_accuracy: 0.7966\n",
      "Epoch 11/20\n",
      "55000/55000 [==============================] - 4s 71us/step - loss: 0.7281 - accuracy: 0.7791 - val_loss: 0.8138 - val_accuracy: 0.7816\n",
      "Epoch 12/20\n",
      "55000/55000 [==============================] - 4s 71us/step - loss: 0.6449 - accuracy: 0.7942 - val_loss: 0.7433 - val_accuracy: 0.8034\n",
      "Epoch 13/20\n",
      "55000/55000 [==============================] - 4s 71us/step - loss: 0.5778 - accuracy: 0.8101 - val_loss: 0.8301 - val_accuracy: 0.8016\n",
      "Epoch 14/20\n",
      "55000/55000 [==============================] - 4s 73us/step - loss: 0.7998 - accuracy: 0.7654 - val_loss: 0.7759 - val_accuracy: 0.7914\n",
      "Epoch 15/20\n",
      "55000/55000 [==============================] - 4s 72us/step - loss: 0.6777 - accuracy: 0.7790 - val_loss: 1.0404 - val_accuracy: 0.7296\n",
      "Epoch 16/20\n",
      "55000/55000 [==============================] - 4s 71us/step - loss: 0.6793 - accuracy: 0.7552 - val_loss: 1.2402 - val_accuracy: 0.7648\n",
      "Epoch 17/20\n",
      "55000/55000 [==============================] - 4s 72us/step - loss: 0.7099 - accuracy: 0.7479 - val_loss: 1.0308 - val_accuracy: 0.7418\n",
      "Epoch 18/20\n",
      "55000/55000 [==============================] - 4s 72us/step - loss: 0.6907 - accuracy: 0.7553 - val_loss: 0.9068 - val_accuracy: 0.7558\n",
      "Epoch 19/20\n",
      "55000/55000 [==============================] - 4s 70us/step - loss: 0.6935 - accuracy: 0.7445 - val_loss: 0.8382 - val_accuracy: 0.7346\n",
      "Epoch 20/20\n",
      "55000/55000 [==============================] - 4s 71us/step - loss: 0.7460 - accuracy: 0.7195 - val_loss: 1.1795 - val_accuracy: 0.6142\n"
     ]
    }
   ],
   "source": [
    "history = model.fit(X_train, y_train, epochs = epochs, batch_size=batch_size,\n",
    "validation_data=(X_val, y_val))\n"
   ]
  },
  {
   "cell_type": "markdown",
   "metadata": {
    "colab_type": "text",
    "id": "xa0bZ5patd-i"
   },
   "source": [
    "**2.2.3 Evaluating a model**\n",
    "\n",
    "To evaluate the model on test data, you can call the evaluate method of the model by feeding the **test images** and **test label**s:"
   ]
  },
  {
   "cell_type": "code",
   "execution_count": null,
   "metadata": {
    "colab": {
     "base_uri": "https://localhost:8080/",
     "height": 69
    },
    "colab_type": "code",
    "id": "JDfoduI7ts5-",
    "outputId": "400cc473-c387-48e5-d674-9b96be7d3a20"
   },
   "outputs": [
    {
     "name": "stdout",
     "output_type": "stream",
     "text": [
      "10000/10000 [==============================] - 0s 38us/step\n",
      "Test loss: 0.6456351698875428\n",
      "Accuracy: 0.8184000253677368\n"
     ]
    }
   ],
   "source": [
    "# evaluate the model\n",
    "loss, acc = model.evaluate(X_test, y_test)\n",
    "print('Test loss:', loss)\n",
    "print('Accuracy:', acc)\n"
   ]
  },
  {
   "cell_type": "markdown",
   "metadata": {
    "colab_type": "text",
    "id": "VbZtbm60ua5y"
   },
   "source": [
    "Now, let's define a function to **plot** the **train** and **validation loss** and **accuracy** that we have stored in the\n",
    "**history** variable:\n"
   ]
  },
  {
   "cell_type": "code",
   "execution_count": null,
   "metadata": {
    "colab": {
     "base_uri": "https://localhost:8080/",
     "height": 683
    },
    "colab_type": "code",
    "id": "XUMJ50GBulpN",
    "outputId": "ac5e8da7-6aac-415e-ae52-13adcd247968"
   },
   "outputs": [
    {
     "data": {
      "image/png": "[encoded data removed]",
      "text/plain": [
       "<Figure size 648x360 with 1 Axes>"
      ]
     },
     "metadata": {
      "needs_background": "light",
      "tags": []
     },
     "output_type": "display_data"
    },
    {
     "data": {
      "image/png": "[encoded data removed]",
      "text/plain": [
       "<Figure size 648x360 with 1 Axes>"
      ]
     },
     "metadata": {
      "needs_background": "light",
      "tags": []
     },
     "output_type": "display_data"
    }
   ],
   "source": [
    "import matplotlib.pyplot as plt\n",
    "def loss_plot(history):\n",
    "  train_acc = history.history['accuracy']\n",
    "  val_acc = history.history['val_accuracy']\n",
    "  plt.figure(figsize=(9,5))\n",
    "  plt.plot(np.arange(1,len(train_acc)+1),train_acc,marker='D',label='Training Accuracy')\n",
    "  plt.plot(np.arange(1,len(train_acc)+1),val_acc,marker='o',label='Validation Accuracy')\n",
    "  plt.xlabel('Epochs')\n",
    "  plt.ylabel('Accuracy')\n",
    "  plt.title('Smartcomputerlab - Embedded AI')\n",
    "  plt.legend()\n",
    "  plt.margins(0.02)\n",
    "  plt.show()\n",
    "  train_loss = history.history['loss']\n",
    "  val_loss = history.history['val_loss']\n",
    "  plt.figure(figsize=(9,5))\n",
    "  plt.plot(np.arange(1,len(train_acc)+1),train_loss,marker='D',label='Training Loss')\n",
    "  plt.plot(np.arange(1,len(train_acc)+1),val_loss,marker='o',label='Validation Loss')\n",
    "  plt.xlabel('Epochs')\n",
    "  plt.ylabel('Loss')\n",
    "  plt.title('Smartcomputerlab - Embedded AI')\n",
    "  plt.legend()\n",
    "  plt.margins(0.02)\n",
    "  plt.show()\n",
    "\n",
    "# plot training loss\n",
    "loss_plot(history)\n"
   ]
  },
  {
   "cell_type": "markdown",
   "metadata": {
    "colab_type": "text",
    "id": "lCWfjT9Fv1Jl"
   },
   "source": [
    "**2.2.4 Complete implementation - *build*, *compile*, *train* and *evaluate***\n",
    "\n",
    "This complete module implements training and evaluation of a simple (**Dense**) multi-layer model:\n"
   ]
  },
  {
   "cell_type": "code",
   "execution_count": null,
   "metadata": {
    "colab": {
     "base_uri": "https://localhost:8080/",
     "height": 1000
    },
    "colab_type": "code",
    "id": "SHKgCnvawdQl",
    "outputId": "6453acf6-26c1-4a79-aed4-851db2bdec30"
   },
   "outputs": [
    {
     "name": "stdout",
     "output_type": "stream",
     "text": [
      "Train on 55000 samples, validate on 5000 samples\n",
      "Epoch 1/20\n",
      "55000/55000 [==============================] - 4s 74us/step - loss: 7.0647 - accuracy: 0.7925 - val_loss: 2.3641 - val_accuracy: 0.8822\n",
      "Epoch 2/20\n",
      "55000/55000 [==============================] - 4s 70us/step - loss: 1.5513 - accuracy: 0.9137 - val_loss: 1.5395 - val_accuracy: 0.9124\n",
      "Epoch 3/20\n",
      "55000/55000 [==============================] - 4s 70us/step - loss: 0.8768 - accuracy: 0.9405 - val_loss: 1.2237 - val_accuracy: 0.9254\n",
      "Epoch 4/20\n",
      "55000/55000 [==============================] - 4s 69us/step - loss: 0.5460 - accuracy: 0.9543 - val_loss: 1.0965 - val_accuracy: 0.9326\n",
      "Epoch 5/20\n",
      "55000/55000 [==============================] - 4s 71us/step - loss: 0.3516 - accuracy: 0.9663 - val_loss: 1.0127 - val_accuracy: 0.9308\n",
      "Epoch 6/20\n",
      "55000/55000 [==============================] - 4s 72us/step - loss: 0.2220 - accuracy: 0.9741 - val_loss: 0.9654 - val_accuracy: 0.9330\n",
      "Epoch 7/20\n",
      "55000/55000 [==============================] - 4s 70us/step - loss: 0.1519 - accuracy: 0.9789 - val_loss: 0.8995 - val_accuracy: 0.9376\n",
      "Epoch 8/20\n",
      "55000/55000 [==============================] - 4s 73us/step - loss: 0.0977 - accuracy: 0.9849 - val_loss: 0.8574 - val_accuracy: 0.9428\n",
      "Epoch 9/20\n",
      "55000/55000 [==============================] - 4s 73us/step - loss: 0.0686 - accuracy: 0.9874 - val_loss: 0.8375 - val_accuracy: 0.9440\n",
      "Epoch 10/20\n",
      "55000/55000 [==============================] - 4s 74us/step - loss: 0.0617 - accuracy: 0.9887 - val_loss: 0.8525 - val_accuracy: 0.9440\n",
      "Epoch 11/20\n",
      "55000/55000 [==============================] - 4s 75us/step - loss: 0.0451 - accuracy: 0.9906 - val_loss: 0.8214 - val_accuracy: 0.9458\n",
      "Epoch 12/20\n",
      "55000/55000 [==============================] - 4s 76us/step - loss: 0.0374 - accuracy: 0.9918 - val_loss: 0.8134 - val_accuracy: 0.9456\n",
      "Epoch 13/20\n",
      "55000/55000 [==============================] - 4s 77us/step - loss: 0.0409 - accuracy: 0.9916 - val_loss: 0.8053 - val_accuracy: 0.9482\n",
      "Epoch 14/20\n",
      "55000/55000 [==============================] - 4s 75us/step - loss: 0.0386 - accuracy: 0.9921 - val_loss: 0.8214 - val_accuracy: 0.9494\n",
      "Epoch 15/20\n",
      "55000/55000 [==============================] - 4s 76us/step - loss: 0.0436 - accuracy: 0.9917 - val_loss: 0.8173 - val_accuracy: 0.9520\n",
      "Epoch 16/20\n",
      "55000/55000 [==============================] - 4s 76us/step - loss: 0.0389 - accuracy: 0.9932 - val_loss: 0.7327 - val_accuracy: 0.9534\n",
      "Epoch 17/20\n",
      "55000/55000 [==============================] - 4s 75us/step - loss: 0.0372 - accuracy: 0.9929 - val_loss: 0.7813 - val_accuracy: 0.9542\n",
      "Epoch 18/20\n",
      "55000/55000 [==============================] - 4s 74us/step - loss: 0.0358 - accuracy: 0.9939 - val_loss: 0.7697 - val_accuracy: 0.9550\n",
      "Epoch 19/20\n",
      "55000/55000 [==============================] - 4s 75us/step - loss: 0.0237 - accuracy: 0.9953 - val_loss: 0.7467 - val_accuracy: 0.9568\n",
      "Epoch 20/20\n",
      "55000/55000 [==============================] - 4s 74us/step - loss: 0.0284 - accuracy: 0.9949 - val_loss: 0.6926 - val_accuracy: 0.9568\n",
      "10000/10000 [==============================] - 0s 39us/step\n",
      "Test loss: 0.6070357395431367\n",
      "Accuracy: 0.963699996471405\n"
     ]
    },
    {
     "data": {
      "image/png": "[encoded data removed]",
      "text/plain": [
       "<Figure size 648x360 with 1 Axes>"
      ]
     },
     "metadata": {
      "needs_background": "light",
      "tags": []
     },
     "output_type": "display_data"
    },
    {
     "data": {
      "image/png": "[encoded data removed]",
      "text/plain": [
       "<Figure size 648x360 with 1 Axes>"
      ]
     },
     "metadata": {
      "needs_background": "light",
      "tags": []
     },
     "output_type": "display_data"
    }
   ],
   "source": [
    "import numpy as np\n",
    "from keras.datasets import mnist\n",
    "from keras.models import Sequential\n",
    "from keras.layers import Dense\n",
    "import matplotlib.pyplot as plt\n",
    "from sklearn.model_selection import train_test_split\n",
    "\n",
    "def loss_plot(history):\n",
    "  train_acc = history.history['accuracy']\n",
    "  val_acc = history.history['val_accuracy']\n",
    "  plt.figure(figsize=(9,5))\n",
    "  plt.plot(np.arange(1,len(train_acc)+1),train_acc,marker='D',label='Training Accuracy')\n",
    "  plt.plot(np.arange(1,len(train_acc)+1),val_acc,marker='o',label='Validation Accuracy')\n",
    "  plt.xlabel('Epochs')\n",
    "  plt.ylabel('Accuracy')\n",
    "  plt.title('Smartcomputerlab - Embedded AI')\n",
    "  plt.legend()\n",
    "  plt.margins(0.02)\n",
    "  plt.show()\n",
    "  train_loss = history.history['loss']\n",
    "  val_loss = history.history['val_loss']\n",
    "  plt.figure(figsize=(9,5))\n",
    "  plt.plot(np.arange(1,len(train_acc)+1),train_loss,marker='D',label='Training Loss')\n",
    "  plt.plot(np.arange(1,len(train_acc)+1),val_loss,marker='o',label='Validation Loss')\n",
    "  plt.xlabel('Epochs')\n",
    "  plt.ylabel('Loss')\n",
    "  plt.title('Smartcomputerlab - Embedded AI')\n",
    "  plt.legend()\n",
    "  plt.margins(0.02)\n",
    "  plt.show()\n",
    "\n",
    "# Number of Convolution – Python fileepochs\n",
    "epochs = 20\n",
    "# Batchsize\n",
    "batch_size = 128\n",
    "# Optimizer for the generator\n",
    "from keras.optimizers import Adam\n",
    "optimizer = Adam(lr=0.0001) # in the receding example lr=0.01 !\n",
    "# Shape of the input image\n",
    "input_shape = (28,28,1)\n",
    "(X_train, y_train), (X_test, y_test) = mnist.load_data()\n",
    "X_train, X_val, y_train, y_val = train_test_split(X_train, y_train,\n",
    "stratify = y_train,\n",
    "test_size = 0.08333,\n",
    "random_state=42)\n",
    "X_train = X_train.reshape(-1, 784)\n",
    "X_val = X_val.reshape(-1, 784)\n",
    "X_test = X_test.reshape(-1, 784)\n",
    "model = Sequential()\n",
    "model.add(Dense(300, input_shape=(784,), activation = 'relu'))\n",
    "model.add(Dense(300, activation='relu'))\n",
    "model.add(Dense(10, activation='softmax'))\n",
    "model.compile(loss = 'sparse_categorical_crossentropy', optimizer=optimizer,\n",
    "metrics = ['accuracy'])\n",
    "history = model.fit(X_train, y_train, epochs = epochs, batch_size=batch_size,\n",
    "validation_data=(X_val, y_val))\n",
    "\n",
    "loss,acc = model.evaluate(X_test, y_test)\n",
    "print('Test loss:', loss)\n",
    "print('Accuracy:', acc)\n",
    "loss_plot(history)\n",
    "\n",
    "\n"
   ]
  },
  {
   "cell_type": "markdown",
   "metadata": {
    "colab_type": "text",
    "id": "g2fhsLdBxZOv"
   },
   "source": [
    "**Figure 3a** **Accuracy** for **MLP** model and\n",
    "**lr=0.0001** learning rate\n",
    "\n",
    "**Figure 3b** **Loss** for **MLP** model\n",
    "and **lr=0.0001** learning rate"
   ]
  },
  {
   "cell_type": "markdown",
   "metadata": {
    "colab_type": "text",
    "id": "xubx043Xx1-D"
   },
   "source": [
    "**2.3 Convolution**\n",
    "\n",
    "**Convolution** can be defined as the process of **striding** a small **kernel/filter/array** over a target array and\n",
    "obtaining the **sum of element-wise multiplication** between the **kernel** and a subset of equal size of the target\n",
    "array at that location.\n",
    "\n",
    "Consider the following example:\n",
    "\n",
    "**array = np.array([0, 1, 0, 1, 0, 1, 0, 1, 0, 1])**\n",
    "\n",
    "**kernel = np.array([-1, 1, 0])**\n",
    "\n",
    "Here, you have a **target array of length 10** and a **kernel of length 3**."
   ]
  },
  {
   "cell_type": "markdown",
   "metadata": {
    "colab_type": "text",
    "id": "axXjaWViytmh"
   },
   "source": [
    "When you start the convolution, implement the following steps:\n",
    "\n",
    "*  1. The kernel will be multiplied with the subset of the target array within indices 0 through 2. This will\n",
    "be between [-1,1,0] (kernel) and [0,1,0] (from index 0 through to 2 of the target array). \n",
    "The result of this element-wise multiplication will then be summed up to obtain what is called the result of **convolution**.\n",
    "*  2. The kernel will then be **stridden by 1 unit** and then multiplied with the subset of the target array within\n",
    "the indices 1 through 3, just like in Step 1, and the result is obtained.\n",
    "*  3. Step 2 is repeated until a subset equal to the length of the kernel is not possible at a new stride location.\n",
    "\n",
    "The result of convolution at each stride is stored in an array . This array that's holding **the result of the convolution** is called the **feature map**.\n",
    "\n",
    "The length of the **1-D feature map** (with step/stride of 1) is equal to the\n",
    "difference in length of the kernel and the target array plus 1.\n",
    "\n",
    "Only in this case, we need to take the following equation into account:\n",
    "\n",
    ">  **length of the feature map = length of the target array - length of the kernel + 1**\n",
    "\n",
    "Here is a code snippet implementing 1-D convolution:\n",
    "\n"
   ]
  },
  {
   "cell_type": "code",
   "execution_count": null,
   "metadata": {
    "colab": {
     "base_uri": "https://localhost:8080/",
     "height": 173
    },
    "colab_type": "code",
    "id": "wv8WrDYuzyBi",
    "outputId": "8e0222a4-b4f2-4bb7-efe5-21c2fb4bad95"
   },
   "outputs": [
    {
     "name": "stdout",
     "output_type": "stream",
     "text": [
      "[-1  1  0] * [0 1 0] = 1\n",
      "[-1  1  0] * [1 0 1] = -1\n",
      "[-1  1  0] * [0 1 0] = 1\n",
      "[-1  1  0] * [1 0 1] = -1\n",
      "[-1  1  0] * [0 1 0] = 1\n",
      "[-1  1  0] * [1 0 1] = -1\n",
      "[-1  1  0] * [0 1 0] = 1\n",
      "[-1  1  0] * [1 0 1] = -1\n",
      "Feature Map : [ 1 -1  1 -1  1 -1  1 -1]\n"
     ]
    }
   ],
   "source": [
    "array = np.array([0, 1, 0, 1, 0, 1, 0, 1, 0, 1])\n",
    "kernel = np.array([-1, 1, 0])\n",
    "# empty feature map\n",
    "conv_result = np.zeros(array.shape[0] - kernel.shape[0] +1).astype(int)\n",
    "for i in range(array.shape[0] - kernel.shape[0] +1):\n",
    "  # convolving\n",
    "  conv_result[i] = (kernel * array[i:i+3]).sum()\n",
    "  print(kernel, '*', array[i:i+3], '=', conv_result[i])\n",
    "  \n",
    "print('Feature Map :', conv_result)\n"
   ]
  },
  {
   "cell_type": "markdown",
   "metadata": {
    "colab_type": "text",
    "id": "j0p_0EUM0Nfb"
   },
   "source": [
    "**2.3.1 Convolution in Keras**\n",
    "\n",
    "Now that you have an understanding of how convolution works, let's put it into use and build a **CNN** classifier on **MNIST** digits.\n",
    "For this, import the **Conv2D** API from the layers module of **Keras**. You can do this with the following code:\n"
   ]
  },
  {
   "cell_type": "code",
   "execution_count": null,
   "metadata": {
    "colab": {},
    "colab_type": "code",
    "id": "h5jmEkPz0aTb"
   },
   "outputs": [],
   "source": [
    "from keras.layers import Conv2D\n"
   ]
  },
  {
   "cell_type": "markdown",
   "metadata": {
    "colab_type": "text",
    "id": "ccRVLGQc0gXg"
   },
   "source": [
    "Since the convolution will be defined to accept images of shape 28 * 28 * 1 , we need to reshape all the images\n",
    "to be of 28 * 28 * 1 :\n"
   ]
  },
  {
   "cell_type": "code",
   "execution_count": null,
   "metadata": {
    "colab": {
     "base_uri": "https://localhost:8080/",
     "height": 69
    },
    "colab_type": "code",
    "id": "tT1p51Kh003W",
    "outputId": "97af846f-aa9f-4565-b024-392899be2bf0"
   },
   "outputs": [
    {
     "name": "stdout",
     "output_type": "stream",
     "text": [
      "Train data shape: (55000, 28, 28, 1)\n",
      "Val data shape: (5000, 28, 28, 1)\n",
      "Test data shape: (10000, 28, 28, 1)\n"
     ]
    }
   ],
   "source": [
    "import numpy as np\n",
    "from keras.datasets import mnist\n",
    "# Shape of the input image\n",
    "input_shape = (28,28,1)\n",
    "(X_train, y_train), (X_test, y_test) = mnist.load_data()\n",
    "X_train, X_val, y_train, y_val = train_test_split(X_train, y_train,\n",
    "stratify = y_train,\n",
    "test_size = 0.08333,\n",
    "random_state=42)\n",
    "# reshape data\n",
    "X_train = X_train.reshape(-1,28,28,1)\n",
    "X_val = X_val.reshape(-1,28,28,1)\n",
    "X_test = X_test.reshape(-1,28,28,1)\n",
    "print('Train data shape:', X_train.shape)\n",
    "print('Val data shape:', X_val.shape)\n",
    "print('Test data shape:', X_test.shape)\n"
   ]
  },
  {
   "cell_type": "markdown",
   "metadata": {
    "colab_type": "text",
    "id": "OOVawtb6089k"
   },
   "source": [
    "To build the model , just like we did previously, we need to initialize the model as **Sequential** :\n"
   ]
  },
  {
   "cell_type": "code",
   "execution_count": null,
   "metadata": {
    "colab": {},
    "colab_type": "code",
    "id": "4kyLmOf11CdE"
   },
   "outputs": [],
   "source": [
    "model = Sequential()\n"
   ]
  },
  {
   "cell_type": "markdown",
   "metadata": {
    "colab_type": "text",
    "id": "HZqwNUTC1I7d"
   },
   "source": [
    "Now, add the **Conv2D** layer to the model with the following code:\n"
   ]
  },
  {
   "cell_type": "code",
   "execution_count": null,
   "metadata": {
    "colab": {},
    "colab_type": "code",
    "id": "2ju7-VGe1L9s"
   },
   "outputs": [],
   "source": [
    "model.add(Conv2D(32,kernel_size=(3,3),input_shape=input_shape,activation= 'relu'))\n"
   ]
  },
  {
   "cell_type": "markdown",
   "metadata": {
    "colab_type": "text",
    "id": "od6TzGB71ROo"
   },
   "source": [
    "In the **Conv2D** API, we have defined the following parameters:\n",
    "\n",
    "*  units: 32 (number of kernels/filters)\n",
    "*  kernel_size : (3,3) (size of each kernel)\n",
    "*  input_shape : 28 * 28 * 1 (shape of the input array it will receive)\n",
    "*  activation **relu**\n",
    "\n",
    "The result of the preceding convolution is **32 feature maps** of size 26*26. These **2-D** feature maps now have to be converted into a **1-D** feature map. This can be done in Keras with the following code:\n"
   ]
  },
  {
   "cell_type": "code",
   "execution_count": null,
   "metadata": {
    "colab": {},
    "colab_type": "code",
    "id": "RHT1xZBV1roj"
   },
   "outputs": [],
   "source": [
    "from keras.layers import Flatten\n",
    "model.add(Flatten())\n"
   ]
  },
  {
   "cell_type": "markdown",
   "metadata": {
    "colab_type": "text",
    "id": "FN6aFoAF1z2X"
   },
   "source": [
    "The result of the preceding snippet is just like a layer of neurons in a simple neural network. The **Flatten**\n",
    "function converts all of the **2-D** feature maps into a single **Dense** layer. In this layer, will we add a Dense layer with 128 neurons:\n"
   ]
  },
  {
   "cell_type": "code",
   "execution_count": null,
   "metadata": {
    "colab": {},
    "colab_type": "code",
    "id": "FTmn9Fu42Ef4"
   },
   "outputs": [],
   "source": [
    "model.add(Dense(128, activation = 'relu'))\n"
   ]
  },
  {
   "cell_type": "markdown",
   "metadata": {
    "colab_type": "text",
    "id": "EIuKtGpm2J4N"
   },
   "source": [
    "Since we need to get scores for each of the **10 possible classes**, we must add another **Dense** layer with **10 neurons**, with **softmax** as the activation function:\n"
   ]
  },
  {
   "cell_type": "code",
   "execution_count": null,
   "metadata": {
    "colab": {},
    "colab_type": "code",
    "id": "4sr08ujN2VGy"
   },
   "outputs": [],
   "source": [
    "model.add(Dense(10, activation = 'softmax'))\n"
   ]
  },
  {
   "cell_type": "markdown",
   "metadata": {
    "colab_type": "text",
    "id": "NvNKNZVv2bqG"
   },
   "source": [
    "Now, just like in the case of the simple dense neural network we built in the preceding code, we will **compile**\n",
    "and **fit** the model:\n"
   ]
  },
  {
   "cell_type": "code",
   "execution_count": null,
   "metadata": {
    "colab": {
     "base_uri": "https://localhost:8080/",
     "height": 295
    },
    "colab_type": "code",
    "id": "6qB8K-5P2gMG",
    "outputId": "8cd6d6f0-295b-4a92-d80b-0461ecd08a25"
   },
   "outputs": [
    {
     "name": "stdout",
     "output_type": "stream",
     "text": [
      "Model: \"sequential_3\"\n",
      "_________________________________________________________________\n",
      "Layer (type)                 Output Shape              Param #   \n",
      "=================================================================\n",
      "conv2d_1 (Conv2D)            (None, 26, 26, 32)        320       \n",
      "_________________________________________________________________\n",
      "flatten_1 (Flatten)          (None, 21632)             0         \n",
      "_________________________________________________________________\n",
      "dense_7 (Dense)              (None, 128)               2769024   \n",
      "_________________________________________________________________\n",
      "dense_8 (Dense)              (None, 10)                1290      \n",
      "=================================================================\n",
      "Total params: 2,770,634\n",
      "Trainable params: 2,770,634\n",
      "Non-trainable params: 0\n",
      "_________________________________________________________________\n"
     ]
    }
   ],
   "source": [
    "# compile model\n",
    "model.compile(loss = 'sparse_categorical_crossentropy', optimizer=optimizer,\n",
    "metrics = ['accuracy'])\n",
    "# print model summary\n",
    "model.summary()\n"
   ]
  },
  {
   "cell_type": "markdown",
   "metadata": {
    "colab_type": "text",
    "id": "B-2YLnji2p-W"
   },
   "source": [
    "From the model's summary, we can see that this **convolution classifier** has **2,770,634** parameters. This is a lot\n",
    "of parameters compared to the Perceptron (MLP) model. Let's **fit** this model and evaluate its performance.\n"
   ]
  },
  {
   "cell_type": "markdown",
   "metadata": {
    "colab_type": "text",
    "id": "bZ_ViA8b21WX"
   },
   "source": [
    "**2.3.3.2 Fitting the model**\n",
    "\n",
    "We fit the convolution neural network model on the data with the following code:"
   ]
  },
  {
   "cell_type": "code",
   "execution_count": null,
   "metadata": {
    "colab": {
     "base_uri": "https://localhost:8080/",
     "height": 729
    },
    "colab_type": "code",
    "id": "3o-CCr1q2-e7",
    "outputId": "ae6dd529-c50b-4ab3-e1f6-506903ee0460"
   },
   "outputs": [
    {
     "name": "stdout",
     "output_type": "stream",
     "text": [
      "Train on 55000 samples, validate on 5000 samples\n",
      "Epoch 1/20\n",
      "55000/55000 [==============================] - 45s 827us/step - loss: 1.1177 - accuracy: 0.8498 - val_loss: 0.2652 - val_accuracy: 0.9312\n",
      "Epoch 2/20\n",
      "55000/55000 [==============================] - 45s 817us/step - loss: 0.1748 - accuracy: 0.9524 - val_loss: 0.1956 - val_accuracy: 0.9480\n",
      "Epoch 3/20\n",
      "55000/55000 [==============================] - 45s 822us/step - loss: 0.0941 - accuracy: 0.9730 - val_loss: 0.1465 - val_accuracy: 0.9650\n",
      "Epoch 4/20\n",
      "55000/55000 [==============================] - 45s 823us/step - loss: 0.0573 - accuracy: 0.9835 - val_loss: 0.1303 - val_accuracy: 0.9672\n",
      "Epoch 5/20\n",
      "55000/55000 [==============================] - 45s 825us/step - loss: 0.0385 - accuracy: 0.9885 - val_loss: 0.1252 - val_accuracy: 0.9722\n",
      "Epoch 6/20\n",
      "55000/55000 [==============================] - 45s 826us/step - loss: 0.0263 - accuracy: 0.9920 - val_loss: 0.1216 - val_accuracy: 0.9710\n",
      "Epoch 7/20\n",
      "55000/55000 [==============================] - 45s 820us/step - loss: 0.0178 - accuracy: 0.9946 - val_loss: 0.1254 - val_accuracy: 0.9748\n",
      "Epoch 8/20\n",
      "55000/55000 [==============================] - 46s 829us/step - loss: 0.0138 - accuracy: 0.9960 - val_loss: 0.1234 - val_accuracy: 0.9740\n",
      "Epoch 9/20\n",
      "55000/55000 [==============================] - 46s 831us/step - loss: 0.0110 - accuracy: 0.9969 - val_loss: 0.1267 - val_accuracy: 0.9750\n",
      "Epoch 10/20\n",
      "55000/55000 [==============================] - 46s 838us/step - loss: 0.0086 - accuracy: 0.9977 - val_loss: 0.1280 - val_accuracy: 0.9748\n",
      "Epoch 11/20\n",
      "55000/55000 [==============================] - 46s 840us/step - loss: 0.0076 - accuracy: 0.9977 - val_loss: 0.1370 - val_accuracy: 0.9746\n",
      "Epoch 12/20\n",
      "55000/55000 [==============================] - 46s 835us/step - loss: 0.0124 - accuracy: 0.9959 - val_loss: 0.1283 - val_accuracy: 0.9748\n",
      "Epoch 13/20\n",
      "55000/55000 [==============================] - 46s 836us/step - loss: 0.0097 - accuracy: 0.9970 - val_loss: 0.1243 - val_accuracy: 0.9750\n",
      "Epoch 14/20\n",
      "55000/55000 [==============================] - 46s 835us/step - loss: 0.0071 - accuracy: 0.9977 - val_loss: 0.1237 - val_accuracy: 0.9760\n",
      "Epoch 15/20\n",
      "55000/55000 [==============================] - 46s 834us/step - loss: 0.0048 - accuracy: 0.9987 - val_loss: 0.1233 - val_accuracy: 0.9762\n",
      "Epoch 16/20\n",
      "55000/55000 [==============================] - 46s 836us/step - loss: 0.0034 - accuracy: 0.9990 - val_loss: 0.1262 - val_accuracy: 0.9746\n",
      "Epoch 17/20\n",
      "55000/55000 [==============================] - 46s 833us/step - loss: 0.0041 - accuracy: 0.9987 - val_loss: 0.1273 - val_accuracy: 0.9754\n",
      "Epoch 18/20\n",
      "55000/55000 [==============================] - 45s 826us/step - loss: 0.0077 - accuracy: 0.9976 - val_loss: 0.1263 - val_accuracy: 0.9788\n",
      "Epoch 19/20\n",
      "55000/55000 [==============================] - 46s 829us/step - loss: 0.0061 - accuracy: 0.9979 - val_loss: 0.1206 - val_accuracy: 0.9780\n",
      "Epoch 20/20\n",
      "55000/55000 [==============================] - 46s 829us/step - loss: 0.0032 - accuracy: 0.9989 - val_loss: 0.1496 - val_accuracy: 0.9748\n"
     ]
    }
   ],
   "source": [
    "# fit model\n",
    "history = model.fit(X_train, y_train, epochs = epochs, batch_size=batch_size,\n",
    "validation_data=(X_val, y_val))\n"
   ]
  },
  {
   "cell_type": "markdown",
   "metadata": {
    "colab_type": "text",
    "id": "zqm7ijD4CnUt"
   },
   "source": [
    "We can see that the convolution classifier's accuracy is 97.48% on the validation data.\n",
    "\n",
    "**2.3.3.3 Evaluating the model**\n",
    "\n",
    "You can evaluate the convolution model on the test data with the following code:"
   ]
  },
  {
   "cell_type": "code",
   "execution_count": null,
   "metadata": {
    "colab": {
     "base_uri": "https://localhost:8080/",
     "height": 69
    },
    "colab_type": "code",
    "id": "NOML6neKC3vL",
    "outputId": "219a3e1d-9c14-401e-ffba-3ef98e5ff768"
   },
   "outputs": [
    {
     "name": "stdout",
     "output_type": "stream",
     "text": [
      "10000/10000 [==============================] - 3s 287us/step\n",
      "Test loss: 0.1562033438282594\n",
      "Accuracy: 0.9750999808311462\n"
     ]
    }
   ],
   "source": [
    "loss,acc = model.evaluate(X_test, y_test)\n",
    "print('Test loss:', loss)\n",
    "print('Accuracy:', acc)\n"
   ]
  },
  {
   "cell_type": "markdown",
   "metadata": {
    "colab_type": "text",
    "id": "ciJLjtnpC_YH"
   },
   "source": [
    "We can see that the model is 97.50% accurate on test data, 97.48% on validation data, and 99.89% on train\n",
    "data. It is clear from the loss as well that the model is slightly **overfitting** on the train data. We will talk about\n",
    "how to handle overfitting later.\n",
    "Now, let's plot the train and validation metrics to see how the training has progressed:\n"
   ]
  },
  {
   "cell_type": "code",
   "execution_count": null,
   "metadata": {
    "colab": {
     "base_uri": "https://localhost:8080/",
     "height": 683
    },
    "colab_type": "code",
    "id": "duHV2C5LDn_c",
    "outputId": "348c5a5c-54e7-4d83-8c31-3180f1c49b50"
   },
   "outputs": [
    {
     "data": {
      "image/png": "[encoded data removed]",
      "text/plain": [
       "<Figure size 648x360 with 1 Axes>"
      ]
     },
     "metadata": {
      "needs_background": "light",
      "tags": []
     },
     "output_type": "display_data"
    },
    {
     "data": {
      "image/png": "[encoded data removed]",
      "text/plain": [
       "<Figure size 648x360 with 1 Axes>"
      ]
     },
     "metadata": {
      "needs_background": "light",
      "tags": []
     },
     "output_type": "display_data"
    }
   ],
   "source": [
    "# plot training loss\n",
    "loss_plot(history)\n"
   ]
  },
  {
   "cell_type": "markdown",
   "metadata": {
    "colab_type": "text",
    "id": "5XS7EsvwDubq"
   },
   "source": [
    "**Figure 3.4a** Accuracy for convolution\n",
    "model and **lr=0.0001** learning rate\n",
    "\n",
    "**Figure 3.4b** Loss for convolution model\n",
    "and **lr=0.0001** learning rate\n",
    "\n"
   ]
  },
  {
   "cell_type": "markdown",
   "metadata": {
    "colab_type": "text",
    "id": "okPKrUEwGEf4"
   },
   "source": [
    "**2.3.5 Pooling**\n",
    "\n",
    "**Max pooling** can be defined as the process of summarizing a** group of values** with the **maximum value** within\n",
    "that group. \n",
    "\n",
    "Similarly, if you computed the average, it would be **average pooling**. \n",
    "\n",
    "Pooling operations are usually\n",
    "performed on the generated feature maps after convolution to reduce the number of parameters.\n",
    "Let's take the example array we considered for convolution:\n"
   ]
  },
  {
   "cell_type": "code",
   "execution_count": null,
   "metadata": {
    "colab": {},
    "colab_type": "code",
    "id": "wLSsFi_QGYoA"
   },
   "outputs": [],
   "source": [
    "import numpy as np\n",
    "array = np.array([0, 1, 0, 1, 0, 1, 0, 1, 0, 1])\n"
   ]
  },
  {
   "cell_type": "markdown",
   "metadata": {
    "colab_type": "text",
    "id": "iaIoZae4Gv31"
   },
   "source": [
    "Now, if you were to perform** max pooling** on this array with the pool size set to size 1 * 2 and a stride of 2, the result would be an array of [1,1,1,1,1]. The array of size 1 * 10 has been reduced to a size of 1 * 5 due to max pooling.\n",
    "\n",
    "Here, since the pool size is of shape 1*2, you would take the subset of the target array from index 0 to index 2,\n",
    "which will be [0,1], and compute the maximum of this subset as 1. \n",
    "\n",
    "You would do the same for the subset from\n",
    "index 2 to index 4, from index 4 to index 6, index 6 to index 8, and finally index 8 to 10.\n",
    "\n",
    "\n",
    "Similarly, **average pooling** can be implemented by computing the average value of the pooled section. In this\n",
    "case, it would result in the array [0.5,0.5,0.5,0.5,0.5].\n",
    "The following are a couple of code snippets that are implementing max and average pooling:"
   ]
  },
  {
   "cell_type": "code",
   "execution_count": null,
   "metadata": {
    "colab": {
     "base_uri": "https://localhost:8080/",
     "height": 52
    },
    "colab_type": "code",
    "id": "e4FzzgVnHShG",
    "outputId": "3c9a2daf-7a3e-44d8-beac-ba60520552d3"
   },
   "outputs": [
    {
     "name": "stdout",
     "output_type": "stream",
     "text": [
      "[1. 1. 1. 1. 1.]\n",
      "[0.5 0.5 0.5 0.5 0.5]\n"
     ]
    }
   ],
   "source": [
    "# 1D Max Pooling\n",
    "array = np.array([0, 1, 0, 1, 0, 1, 0, 1, 0, 1])\n",
    "result = np.zeros(len(array)//2)\n",
    "for i in range(len(array)//2):\n",
    "  result[i] = np.max(array[2*i:2*i+2])\n",
    "\n",
    "print(result)\n",
    "\n",
    "# 1D Mean Pooling\n",
    "array = np.array([0, 1, 0, 1, 0, 1, 0, 1, 0, 1])\n",
    "result = np.zeros(len(array)//2)\n",
    "for i in range(len(array)//2):\n",
    "  result[i] = np.mean(array[2*i:2*i+2])\n",
    "  \n",
    "print(result)\n"
   ]
  },
  {
   "cell_type": "markdown",
   "metadata": {
    "colab_type": "text",
    "id": "OFBt0_zFHu7a"
   },
   "source": [
    "Consider the following code for a digit:\n"
   ]
  },
  {
   "cell_type": "code",
   "execution_count": null,
   "metadata": {
    "colab": {},
    "colab_type": "code",
    "id": "dth0OuBrHy8-"
   },
   "outputs": [],
   "source": [
    "plt.imshow(X_train[0].reshape(28,28), cmap='gray')\n"
   ]
  },
  {
   "cell_type": "markdown",
   "metadata": {
    "colab_type": "text",
    "id": "0GpTmjWHH236"
   },
   "source": [
    "This image is of shape 28 * 28 . Now, if you were to perform a 2 * 2 max pooling operation of this, the resulting\n",
    "image would have a shape of 14 * 14 .\n",
    "\n",
    "Now, let's write a function to implement a 2 * 2 max pooling operation on a **MNIST** digit:\n"
   ]
  },
  {
   "cell_type": "code",
   "execution_count": null,
   "metadata": {
    "colab": {
     "base_uri": "https://localhost:8080/",
     "height": 317
    },
    "colab_type": "code",
    "id": "UeF_4waJIQj5",
    "outputId": "e8169ce7-e6f6-478a-c826-4998ce48b51f"
   },
   "outputs": [
    {
     "name": "stderr",
     "output_type": "stream",
     "text": [
      "Using TensorFlow backend.\n"
     ]
    },
    {
     "name": "stdout",
     "output_type": "stream",
     "text": [
      "Downloading data from https://s3.amazonaws.com/img-datasets/mnist.npz\n",
      "11493376/11490434 [==============================] - 0s 0us/step\n"
     ]
    },
    {
     "data": {
      "image/png": "[encoded data removed]",
      "text/plain": [
       "<Figure size 432x288 with 1 Axes>"
      ]
     },
     "metadata": {
      "needs_background": "light",
      "tags": []
     },
     "output_type": "display_data"
    }
   ],
   "source": [
    "import matplotlib.pyplot as plt\n",
    "from keras.datasets import mnist\n",
    "\n",
    "input_shape = (28,28,1)\n",
    "(X_train, y_train), (X_test, y_test) = mnist.load_data()\n",
    "\n",
    "def square_max_pool(image, pool_size=2):\n",
    "  result = np.zeros((14,14))\n",
    "  for i in range(result.shape[0]):\n",
    "    for j in range(result.shape[1]):\n",
    "      result[i,j] = np.max(image[i*pool_size:i*pool_size+pool_size,j*pool_size:j*pool_size+pool_size])\n",
    "  return result\n",
    "\n",
    "# plot a pooled image\n",
    "plt.imshow(square_max_pool(X_train[0].reshape(28,28)), cmap='gray')\n",
    "plt.show()\n"
   ]
  },
  {
   "cell_type": "markdown",
   "metadata": {
    "colab_type": "text",
    "id": "oqMspL3rJLNr"
   },
   "source": [
    "**Figure 4** Random MNIST digit after max pooling\n",
    "\n",
    "You may have noticed that the convolution classifier that we built in the previous section has around **2.7 million parameters**. \n",
    "\n",
    "It has been proven that having **a lot of parameters can lead to overfitting** in a lot of cases. This is\n",
    "where pooling comes in. It helps us to retain the important features in the data as well as reduce the number of\n",
    "parameters.\n",
    "Now, let's implement a convolution classifier with max pooling.\n"
   ]
  },
  {
   "cell_type": "code",
   "execution_count": 1,
   "metadata": {
    "colab": {
     "base_uri": "https://localhost:8080/",
     "height": 1000
    },
    "colab_type": "code",
    "id": "IVY3hsu8Jok5",
    "outputId": "caf61fd3-2aba-4848-cecf-4262ee4266aa"
   },
   "outputs": [
    {
     "name": "stderr",
     "output_type": "stream",
     "text": [
      "Using TensorFlow backend.\n"
     ]
    },
    {
     "name": "stdout",
     "output_type": "stream",
     "text": [
      "Downloading data from https://s3.amazonaws.com/img-datasets/mnist.npz\n",
      "11493376/11490434 [==============================] - 0s 0us/step\n",
      "Train data shape: (55000, 28, 28, 1)\n",
      "Val data shape: (5000, 28, 28, 1)\n",
      "Test data shape: (10000, 28, 28, 1)\n",
      "Model: \"sequential_1\"\n",
      "_________________________________________________________________\n",
      "Layer (type)                 Output Shape              Param #   \n",
      "=================================================================\n",
      "conv2d_1 (Conv2D)            (None, 26, 26, 32)        320       \n",
      "_________________________________________________________________\n",
      "max_pooling2d_1 (MaxPooling2 (None, 13, 13, 32)        0         \n",
      "_________________________________________________________________\n",
      "flatten_1 (Flatten)          (None, 5408)              0         \n",
      "_________________________________________________________________\n",
      "dense_1 (Dense)              (None, 128)               692352    \n",
      "_________________________________________________________________\n",
      "dense_2 (Dense)              (None, 10)                1290      \n",
      "=================================================================\n",
      "Total params: 693,962\n",
      "Trainable params: 693,962\n",
      "Non-trainable params: 0\n",
      "_________________________________________________________________\n",
      "Train on 55000 samples, validate on 5000 samples\n",
      "Epoch 1/20\n",
      "55000/55000 [==============================] - 21s 389us/step - loss: 1.2424 - accuracy: 0.8801 - val_loss: 0.4448 - val_accuracy: 0.9304\n",
      "Epoch 2/20\n",
      "55000/55000 [==============================] - 21s 385us/step - loss: 0.2551 - accuracy: 0.9540 - val_loss: 0.2825 - val_accuracy: 0.9466\n",
      "Epoch 3/20\n",
      "55000/55000 [==============================] - 21s 382us/step - loss: 0.1412 - accuracy: 0.9697 - val_loss: 0.2108 - val_accuracy: 0.9612\n",
      "Epoch 4/20\n",
      "55000/55000 [==============================] - 21s 384us/step - loss: 0.0875 - accuracy: 0.9789 - val_loss: 0.2061 - val_accuracy: 0.9602\n",
      "Epoch 5/20\n",
      "55000/55000 [==============================] - 21s 383us/step - loss: 0.0573 - accuracy: 0.9845 - val_loss: 0.1986 - val_accuracy: 0.9678\n",
      "Epoch 6/20\n",
      "55000/55000 [==============================] - 21s 380us/step - loss: 0.0449 - accuracy: 0.9877 - val_loss: 0.1872 - val_accuracy: 0.9686\n",
      "Epoch 7/20\n",
      "55000/55000 [==============================] - 21s 380us/step - loss: 0.0323 - accuracy: 0.9903 - val_loss: 0.1710 - val_accuracy: 0.9690\n",
      "Epoch 8/20\n",
      "55000/55000 [==============================] - 21s 384us/step - loss: 0.0269 - accuracy: 0.9924 - val_loss: 0.1613 - val_accuracy: 0.9724\n",
      "Epoch 9/20\n",
      "55000/55000 [==============================] - 21s 380us/step - loss: 0.0219 - accuracy: 0.9930 - val_loss: 0.1423 - val_accuracy: 0.9756\n",
      "Epoch 10/20\n",
      "55000/55000 [==============================] - 21s 382us/step - loss: 0.0131 - accuracy: 0.9957 - val_loss: 0.1689 - val_accuracy: 0.9708\n",
      "Epoch 11/20\n",
      "55000/55000 [==============================] - 21s 382us/step - loss: 0.0182 - accuracy: 0.9942 - val_loss: 0.1491 - val_accuracy: 0.9734\n",
      "Epoch 12/20\n",
      "55000/55000 [==============================] - 21s 381us/step - loss: 0.0139 - accuracy: 0.9953 - val_loss: 0.1684 - val_accuracy: 0.9728\n",
      "Epoch 13/20\n",
      "55000/55000 [==============================] - 21s 381us/step - loss: 0.0167 - accuracy: 0.9946 - val_loss: 0.2176 - val_accuracy: 0.9664\n",
      "Epoch 14/20\n",
      "55000/55000 [==============================] - 21s 380us/step - loss: 0.0167 - accuracy: 0.9947 - val_loss: 0.1347 - val_accuracy: 0.9782\n",
      "Epoch 15/20\n",
      "55000/55000 [==============================] - 21s 380us/step - loss: 0.0105 - accuracy: 0.9967 - val_loss: 0.1659 - val_accuracy: 0.9768\n",
      "Epoch 16/20\n",
      "55000/55000 [==============================] - 21s 381us/step - loss: 0.0100 - accuracy: 0.9968 - val_loss: 0.1543 - val_accuracy: 0.9758\n",
      "Epoch 17/20\n",
      "55000/55000 [==============================] - 21s 375us/step - loss: 0.0120 - accuracy: 0.9965 - val_loss: 0.1607 - val_accuracy: 0.9782\n",
      "Epoch 18/20\n",
      "55000/55000 [==============================] - 20s 373us/step - loss: 0.0114 - accuracy: 0.9962 - val_loss: 0.1436 - val_accuracy: 0.9798\n",
      "Epoch 19/20\n",
      "55000/55000 [==============================] - 20s 372us/step - loss: 0.0063 - accuracy: 0.9978 - val_loss: 0.1430 - val_accuracy: 0.9776\n",
      "Epoch 20/20\n",
      "55000/55000 [==============================] - 21s 385us/step - loss: 0.0045 - accuracy: 0.9985 - val_loss: 0.1433 - val_accuracy: 0.9804\n",
      "10000/10000 [==============================] - 2s 165us/step\n",
      "Test loss: 0.1348819164888779\n",
      "Accuracy: 0.9793000221252441\n"
     ]
    },
    {
     "data": {
      "image/png": "[encoded data removed]",
      "text/plain": [
       "<Figure size 648x360 with 1 Axes>"
      ]
     },
     "metadata": {
      "needs_background": "light",
      "tags": []
     },
     "output_type": "display_data"
    },
    {
     "data": {
      "image/png": "[encoded data removed]",
      "text/plain": [
       "<Figure size 648x360 with 1 Axes>"
      ]
     },
     "metadata": {
      "needs_background": "light",
      "tags": []
     },
     "output_type": "display_data"
    }
   ],
   "source": [
    "import numpy as np\n",
    "from keras.layers import Conv2D\n",
    "from keras.datasets import mnist\n",
    "from keras.models import Sequential\n",
    "from keras.layers import Dense\n",
    "from keras.layers import Flatten\n",
    "from keras.layers import MaxPool2D\n",
    "from keras.optimizers import Adam\n",
    "import matplotlib.pyplot as plt\n",
    "from sklearn.model_selection import train_test_split\n",
    "\n",
    "def loss_plot(history):\n",
    "  train_acc = history.history['accuracy']\n",
    "  val_acc = history.history['val_accuracy']\n",
    "  plt.figure(figsize=(9,5))\n",
    "  plt.plot(np.arange(1,len(train_acc)+1),train_acc,marker='D',label='Training Accuracy')\n",
    "  plt.plot(np.arange(1,len(train_acc)+1),val_acc,marker='o',label='Validation Accuracy')\n",
    "  plt.xlabel('Epochs')\n",
    "  plt.ylabel('Accuracy')\n",
    "  plt.title('Smartcomputerlab - Embedded AI')\n",
    "  plt.legend()\n",
    "  plt.margins(0.02)\n",
    "  plt.show()\n",
    "  train_loss = history.history['loss']\n",
    "  val_loss = history.history['val_loss']\n",
    "  plt.figure(figsize=(9,5))\n",
    "  plt.plot(np.arange(1,len(train_acc)+1),train_loss,marker='D',label='Training Loss')\n",
    "  plt.plot(np.arange(1,len(train_acc)+1),val_loss,marker='o',label='Validation Loss')\n",
    "  plt.xlabel('Epochs')\n",
    "  plt.ylabel('Loss')\n",
    "  plt.title('Smartcomputerlab - Embedded AI')\n",
    "  plt.legend()\n",
    "  plt.margins(0.02)\n",
    "  plt.show()\n",
    "\n",
    "# Shape of the input image\n",
    "input_shape = (28,28,1)\n",
    "(X_train, y_train), (X_test, y_test) = mnist.load_data()\n",
    "X_train, X_val, y_train, y_val = train_test_split(X_train,y_train,stratify=y_train,test_size=0.08333,random_state=42)\n",
    "\n",
    "# reshape data\n",
    "X_train = X_train.reshape(-1,28,28,1)\n",
    "X_val = X_val.reshape(-1,28,28,1)\n",
    "X_test = X_test.reshape(-1,28,28,1)\n",
    "print('Train data shape:', X_train.shape)\n",
    "print('Val data shape:', X_val.shape)\n",
    "print('Test data shape:', X_test.shape)\n",
    "model = Sequential()\n",
    "optimizer = Adam(lr=0.0001)\n",
    "model.add(Conv2D(32,kernel_size=(3,3),input_shape=input_shape,activation='relu'))\n",
    "model.add(MaxPool2D(2,2))\n",
    "model.add(Flatten())\n",
    "model.add(Dense(128, activation = 'relu'))\n",
    "model.add(Dense(10, activation = 'softmax'))\n",
    "\n",
    "# compile model\n",
    "model.compile(loss = 'sparse_categorical_crossentropy', optimizer=optimizer,metrics = ['accuracy'])\n",
    "# print model summary\n",
    "model.summary()\n",
    "# Number of epochs\n",
    "epochs = 20\n",
    "# Batchsize\n",
    "batch_size = 128\n",
    "history = model.fit(X_train, y_train,\n",
    "epochs=epochs,batch_size=batch_size,validation_data=(X_val, y_val))\n",
    "\n",
    "loss,acc = model.evaluate(X_test, y_test)\n",
    "print('Test loss:', loss)\n",
    "print('Accuracy:', acc)\n",
    "loss_plot(history)\n",
    "\n"
   ]
  },
  {
   "cell_type": "markdown",
   "metadata": {
    "colab_type": "text",
    "id": "0nB2j_w924lh"
   },
   "source": [
    "**2.3.7 Dropout**\n",
    "\n",
    "A single model can be used to simulate having a large number of different network architectures by randomly\n",
    "**dropping out nodes** during training. This is called dropout and offers a very computationally cheap and\n",
    "remarkably effective regularization method to reduce overfitting and improve generalization error in deep neural\n",
    "networks of all kinds.\n",
    "\n",
    "\n",
    "**2.3.7.1 Problem with Overfitting**\n",
    "\n",
    "Large neural nets trained on relatively small datasets can overfit the training data.\n",
    "This has the effect of the model learning the statistical noise in the training data, which results in poor\n",
    "performance when the model is evaluated on new data, e.g. a test dataset. \n",
    "\n",
    "**Generalization error** increases due\n",
    "to overfitting.\n",
    "One approach to reduce overfitting is to fit all possible different neural networks on the same dataset and to average the predictions from each model. \n",
    "\n",
    "This is not feasible in practice, and can be approximated using a\n",
    "small collection of different models, called an ensemble.\n",
    "\n",
    "A problem even with the ensemble approximation is that it requires multiple models to be fit and stored, which\n",
    "can be a challenge if the models are large, requiring days or weeks to train and tune.\n",
    "\n",
    "**2.3.7.2 Randomly droping nodes**\n",
    "\n",
    "Dropout is a regularization method that approximates training a large number of neural networks with different\n",
    "architectures in parallel.\n",
    "During training, some number of layer outputs are randomly ignored or “dropped out.” This has the effect of\n",
    "making the layer look-like and be treated-like a layer with a different number of nodes and connectivity to the\n",
    "prior layer. In effect, each update to a layer during training is performed with a different “view” of the configured\n",
    "layer.\n",
    "\n",
    "By dropping a unit out, we mean temporarily removing it from the network, along with all its incoming and outgoing connections\n",
    "Dropout has the effect of **making the training process noisy**, forcing nodes within a layer to probabilistically take\n",
    "on more or less responsibility for the inputs.\n",
    "\n",
    "This conceptualization suggests that perhaps dropout breaks-up situations where network layers co-adapt to\n",
    "correct mistakes from prior layers, in turn making the model more robust.\n"
   ]
  },
  {
   "cell_type": "markdown",
   "metadata": {
    "colab_type": "text",
    "id": "s2WkYTZP4D0t"
   },
   "source": [
    "**2.3.7.3 How to dropout**\n",
    "\n",
    "Dropout is implemented per-layer in a neural network.\n",
    "It can be used with most types of layers, such as dense fully connected layers, convolutional layers, and\n",
    "recurrent layers such as the long short-term memory network layer.\n",
    "\n",
    "Dropout may be implemented on any or all hidden layers in the network as well as the visible or input layer. It is\n",
    "not used on the output layer.\n",
    "\n",
    "A new **hyperparameter** is introduced that specifies the **probability** at which outputs of the layer are dropped out,\n",
    "or inversely, the probability at which outputs of the layer are retained. The interpretation is an implementation\n",
    "detail that can differ from paper to code library.\n",
    "\n",
    "A common value is a probability of **0.5** for retaining the output of each node in a hidden layer and a value close\n",
    "to 1.0, such as 0.8, for retaining inputs from the visible layer.\n"
   ]
  },
  {
   "cell_type": "markdown",
   "metadata": {
    "colab_type": "text",
    "id": "5Pf-lxJd4fi5"
   },
   "source": [
    "**2.3.7.4 Complete implementation with Dropout**\n"
   ]
  },
  {
   "cell_type": "code",
   "execution_count": 5,
   "metadata": {
    "colab": {
     "base_uri": "https://localhost:8080/",
     "height": 451
    },
    "colab_type": "code",
    "id": "wICS_rbm4obM",
    "outputId": "be916aa5-2d2c-44bd-a903-208374c1ce71"
   },
   "outputs": [
    {
     "name": "stdout",
     "output_type": "stream",
     "text": [
      "Train data shape: (55000, 28, 28, 1)\n",
      "Val data shape: (5000, 28, 28, 1)\n",
      "Test data shape: (10000, 28, 28, 1)\n",
      "Model: \"sequential_2\"\n",
      "_________________________________________________________________\n",
      "Layer (type)                 Output Shape              Param #   \n",
      "=================================================================\n",
      "conv2d_2 (Conv2D)            (None, 26, 26, 32)        320       \n",
      "_________________________________________________________________\n",
      "max_pooling2d_2 (MaxPooling2 (None, 13, 13, 32)        0         \n",
      "_________________________________________________________________\n",
      "dropout_3 (Dropout)          (None, 13, 13, 32)        0         \n",
      "_________________________________________________________________\n",
      "flatten_2 (Flatten)          (None, 5408)              0         \n",
      "_________________________________________________________________\n",
      "dense_3 (Dense)              (None, 128)               692352    \n",
      "_________________________________________________________________\n",
      "dropout_4 (Dropout)          (None, 128)               0         \n",
      "_________________________________________________________________\n",
      "dense_4 (Dense)              (None, 10)                1290      \n",
      "=================================================================\n",
      "Total params: 693,962\n",
      "Trainable params: 693,962\n",
      "Non-trainable params: 0\n",
      "_________________________________________________________________\n"
     ]
    }
   ],
   "source": [
    "import numpy as np\n",
    "from keras.layers import Conv2D\n",
    "from keras.datasets import mnist\n",
    "from keras.models import Sequential\n",
    "from keras.layers import Dense\n",
    "from keras.layers import Flatten\n",
    "from keras.layers import MaxPool2D\n",
    "from keras.layers import Dropout\n",
    "from keras.optimizers import Adam\n",
    "import matplotlib.pyplot as plt\n",
    "from sklearn.model_selection import train_test_split\n",
    "\n",
    "def loss_plot(history):\n",
    "  train_acc = history.history['accuracy']\n",
    "  val_acc = history.history['val_accuracy']\n",
    "  plt.figure(figsize=(9,5))\n",
    "  plt.plot(np.arange(1,len(train_acc)+1),train_acc,marker='D',label='Training Accuracy')\n",
    "  plt.plot(np.arange(1,len(train_acc)+1),val_acc,marker='o',label='Validation Accuracy')\n",
    "  plt.xlabel('Epochs')\n",
    "  plt.ylabel('Accuracy')\n",
    "  plt.title('Smartcomputerlab - Embedded AI')\n",
    "  plt.legend()\n",
    "  plt.margins(0.02)\n",
    "  plt.show()\n",
    "  train_loss = history.history['loss']\n",
    "  val_loss = history.history['val_loss']\n",
    "  plt.figure(figsize=(9,5))\n",
    "  plt.plot(np.arange(1,len(train_acc)+1),train_loss,marker='D',label='Training Loss')\n",
    "  plt.plot(np.arange(1,len(train_acc)+1),val_loss,marker='o',label='Validation Loss')\n",
    "  plt.xlabel('Epochs')\n",
    "  plt.ylabel('Loss')\n",
    "  plt.title('Smartcomputerlab - Embedded AI')\n",
    "  plt.legend()\n",
    "  plt.margins(0.02)\n",
    "  plt.show()\n",
    "\n",
    "# Shape of the input image\n",
    "input_shape = (28,28,1)\n",
    "(X_train, y_train), (X_test, y_test) = mnist.load_data()\n",
    "X_train, X_val, y_train, y_val =train_test_split(X_train,y_train,stratify=y_train,test_size=0.08333,random_state=42)\n",
    "# reshape data\n",
    "X_train = X_train.reshape(-1,28,28,1)\n",
    "X_val = X_val.reshape(-1,28,28,1)\n",
    "X_test = X_test.reshape(-1,28,28,1)\n",
    "print('Train data shape:', X_train.shape)\n",
    "print('Val data shape:', X_val.shape)\n",
    "print('Test data shape:', X_test.shape)\n",
    "model = Sequential()\n",
    "optimizer = Adam(lr=0.0001)\n",
    "model.add(Conv2D(32,kernel_size=(3,3),input_shape=input_shape,activation=\n",
    "'relu'))\n",
    "model.add(MaxPool2D(2,2))\n",
    "model.add(Dropout(0.2))\n",
    "model.add(Flatten())\n",
    "model.add(Dense(128, activation = 'relu'))\n",
    "model.add(Dropout(0.2))\n",
    "model.add(Dense(10, activation = 'softmax'))\n",
    "# compile model\n",
    "model.compile(loss = 'sparse_categorical_crossentropy', optimizer=optimizer,\n",
    "metrics = ['accuracy'])\n",
    "# print model summary\n",
    "model.summary()\n",
    "\n"
   ]
  },
  {
   "cell_type": "code",
   "execution_count": 6,
   "metadata": {
    "colab": {
     "base_uri": "https://localhost:8080/",
     "height": 1000
    },
    "colab_type": "code",
    "id": "k7MXYYU049CR",
    "outputId": "7bfd2c43-a257-45fc-8914-d52665d7dec9"
   },
   "outputs": [
    {
     "name": "stdout",
     "output_type": "stream",
     "text": [
      "Train on 55000 samples, validate on 5000 samples\n",
      "Epoch 1/20\n",
      "55000/55000 [==============================] - 4s 72us/step - loss: 2.6686 - accuracy: 0.6896 - val_loss: 0.5313 - val_accuracy: 0.8612\n",
      "Epoch 2/20\n",
      "55000/55000 [==============================] - 4s 67us/step - loss: 0.6812 - accuracy: 0.8248 - val_loss: 0.3346 - val_accuracy: 0.9120\n",
      "Epoch 3/20\n",
      "55000/55000 [==============================] - 4s 66us/step - loss: 0.4846 - accuracy: 0.8760 - val_loss: 0.2442 - val_accuracy: 0.9350\n",
      "Epoch 4/20\n",
      "55000/55000 [==============================] - 4s 66us/step - loss: 0.3675 - accuracy: 0.9027 - val_loss: 0.2021 - val_accuracy: 0.9484\n",
      "Epoch 5/20\n",
      "55000/55000 [==============================] - 4s 66us/step - loss: 0.2940 - accuracy: 0.9231 - val_loss: 0.1707 - val_accuracy: 0.9532\n",
      "Epoch 6/20\n",
      "55000/55000 [==============================] - 4s 66us/step - loss: 0.2431 - accuracy: 0.9343 - val_loss: 0.1384 - val_accuracy: 0.9636\n",
      "Epoch 7/20\n",
      "55000/55000 [==============================] - 4s 66us/step - loss: 0.2019 - accuracy: 0.9439 - val_loss: 0.1190 - val_accuracy: 0.9720\n",
      "Epoch 8/20\n",
      "55000/55000 [==============================] - 4s 65us/step - loss: 0.1708 - accuracy: 0.9522 - val_loss: 0.1106 - val_accuracy: 0.9748\n",
      "Epoch 9/20\n",
      "55000/55000 [==============================] - 4s 65us/step - loss: 0.1435 - accuracy: 0.9595 - val_loss: 0.1082 - val_accuracy: 0.9748\n",
      "Epoch 10/20\n",
      "55000/55000 [==============================] - 4s 66us/step - loss: 0.1257 - accuracy: 0.9630 - val_loss: 0.0935 - val_accuracy: 0.9758\n",
      "Epoch 11/20\n",
      "55000/55000 [==============================] - 4s 65us/step - loss: 0.1107 - accuracy: 0.9674 - val_loss: 0.0894 - val_accuracy: 0.9756\n",
      "Epoch 12/20\n",
      "55000/55000 [==============================] - 4s 65us/step - loss: 0.0992 - accuracy: 0.9699 - val_loss: 0.0776 - val_accuracy: 0.9812\n",
      "Epoch 13/20\n",
      "55000/55000 [==============================] - 4s 65us/step - loss: 0.0872 - accuracy: 0.9737 - val_loss: 0.0775 - val_accuracy: 0.9820\n",
      "Epoch 14/20\n",
      "55000/55000 [==============================] - 4s 65us/step - loss: 0.0757 - accuracy: 0.9773 - val_loss: 0.0788 - val_accuracy: 0.9798\n",
      "Epoch 15/20\n",
      "55000/55000 [==============================] - 4s 65us/step - loss: 0.0678 - accuracy: 0.9796 - val_loss: 0.0771 - val_accuracy: 0.9818\n",
      "Epoch 16/20\n",
      "55000/55000 [==============================] - 4s 66us/step - loss: 0.0627 - accuracy: 0.9807 - val_loss: 0.0771 - val_accuracy: 0.9840\n",
      "Epoch 17/20\n",
      "55000/55000 [==============================] - 4s 66us/step - loss: 0.0599 - accuracy: 0.9816 - val_loss: 0.0725 - val_accuracy: 0.9836\n",
      "Epoch 18/20\n",
      "55000/55000 [==============================] - 4s 66us/step - loss: 0.0529 - accuracy: 0.9829 - val_loss: 0.0733 - val_accuracy: 0.9836\n",
      "Epoch 19/20\n",
      "55000/55000 [==============================] - 4s 66us/step - loss: 0.0471 - accuracy: 0.9848 - val_loss: 0.0761 - val_accuracy: 0.9820\n",
      "Epoch 20/20\n",
      "55000/55000 [==============================] - 4s 66us/step - loss: 0.0423 - accuracy: 0.9865 - val_loss: 0.0737 - val_accuracy: 0.9836\n",
      "10000/10000 [==============================] - 1s 85us/step\n",
      "Test loss: 0.05819145719263674\n",
      "Accuracy: 0.9851999878883362\n"
     ]
    },
    {
     "data": {
      "image/png": "[encoded data removed]",
      "text/plain": [
       "<Figure size 648x360 with 1 Axes>"
      ]
     },
     "metadata": {
      "needs_background": "light",
      "tags": []
     },
     "output_type": "display_data"
    },
    {
     "data": {
      "image/png": "[encoded data removed]",
      "text/plain": [
       "<Figure size 648x360 with 1 Axes>"
      ]
     },
     "metadata": {
      "needs_background": "light",
      "tags": []
     },
     "output_type": "display_data"
    }
   ],
   "source": [
    "# Number of epochs\n",
    "epochs = 20\n",
    "# Batchsize\n",
    "batch_size = 128\n",
    "history = model.fit(X_train, y_train,epochs=epochs,batch_size=batch_size,validation_data=(X_val, y_val))\n",
    "loss,acc = model.evaluate(X_test, y_test)\n",
    "print('Test loss:', loss)\n",
    "print('Accuracy:', acc)\n",
    "loss_plot(history)\n",
    "\n"
   ]
  }
 ],
 "metadata": {
  "accelerator": "GPU",
  "colab": {
   "collapsed_sections": [],
   "name": "Copy of Copy of Copy of Untitled0.ipynb",
   "provenance": []
  },
  "kernelspec": {
   "display_name": "Python 3",
   "language": "python",
   "name": "python3"
  },
  "language_info": {
   "codemirror_mode": {
    "name": "ipython",
    "version": 3
   },
   "file_extension": ".py",
   "mimetype": "text/x-python",
   "name": "python",
   "nbconvert_exporter": "python",
   "pygments_lexer": "ipython3",
   "version": "3.7.3"
  }
 },
 "nbformat": 4,
 "nbformat_minor": 1
}
